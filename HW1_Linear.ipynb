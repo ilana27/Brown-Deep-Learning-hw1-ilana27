{
  "cells": [
    {
      "cell_type": "markdown",
      "metadata": {
        "id": "view-in-github",
        "colab_type": "text"
      },
      "source": [
        "<a href=\"https://colab.research.google.com/github/ilana27/Brown-Deep-Learning-hw1-ilana27/blob/main/HW1_Linear.ipynb\" target=\"_parent\"><img src=\"https://colab.research.google.com/assets/colab-badge.svg\" alt=\"Open In Colab\"/></a>"
      ]
    },
    {
      "cell_type": "markdown",
      "metadata": {
        "id": "B4oKbqMWMpMN"
      },
      "source": [
        "# CS1470/2470 HW1: Single-Layered Neural Networks\n",
        "\n",
        "In this homework assignment, you will build a simple linear model using differential modules.\n",
        "\n",
        "---"
      ]
    },
    {
      "cell_type": "markdown",
      "metadata": {
        "id": "3CLyvlysHCK9"
      },
      "source": [
        "## Starting Our Modular API\n",
        "\n",
        "### **The goal of this assignment is as follows:** \n",
        "- Organize our understanding of deep learning into a modular framework. \n",
        "- Get familiarized with a simple modular API which reflects (but is a simplification of) some of PyTorch's systems. \n",
        "- Implement some nice modular components and be able to construct a functional single-file neural network from it. "
      ]
    },
    {
      "cell_type": "markdown",
      "metadata": {
        "id": "ZFUeG0msHRyo"
      },
      "source": [
        "### Improving The Old Way via Chain Rule\n",
        "\n",
        "Recall that in the machine learning lab, we got the chance to make some simple but effective regression models! Given some realizations $X \\sim \\mathcal{X}$ and $Y = \\mathbb{E}[Y|X] + \\xi$, we were able to train up a model $h_{\\theta} \\in \\mathcal{H}$ which was similar to $\\mathbb{E}[Y|X]$ and thereby minimized an empirical loss $\\mathcal{L}$ of our choice.\n",
        "\n",
        "> As a reminder, $\\mathcal{X}$ is the space of all candidate functions.\n",
        "\n",
        "In these cases, we assumed that $h_{\\theta}$ had a relatively simple and non-flexible architecture, which meant that we could manually specify the structure and simply derive and code up our gradient formula once. Furthermore, since the optimization process was concave, we could even skip the gradient computation and directly derive a loss-minimizing parameter selection. \n",
        "\n",
        "Of course, there are hard limits to what this kind of architecture can provide us; sometimes the relationships that the model needs to capture are relatively complex and might not be resolvable in such a fashion. And that's why this course exists!"
      ]
    },
    {
      "cell_type": "markdown",
      "metadata": {
        "id": "VmnuKJmCHmpg"
      },
      "source": [
        "#### **Problem:** \n",
        "> This is extremely time-consuming and rigid! What happens if we switched out an activation function? A loss function? We'd have to re-specify the gradient every time!\n",
        "\n",
        "#### **Solution:** \n",
        "> Let's take advantage of the chain rule! "
      ]
    },
    {
      "cell_type": "markdown",
      "metadata": {
        "id": "ecdHbe0xHb1o"
      },
      "source": [
        "**Naive Solution:** If we really wanted to, we could approach this problem in the same way as before, and just code up the gradient functions manually. Similarly to before, this would allow us to propagate gradients through, say, a specified loss function, an activation function, and a dense layer. We could also do it for 2 dense layers; just use the old gradient function for the weights in layer 2, compute the new gradient for the weights in layer 1, and so on. "
      ]
    },
    {
      "cell_type": "markdown",
      "metadata": {
        "id": "OTfm_9fmHkhE"
      },
      "source": [
        "Recall that per the chain rule, if there exists a set of differentiable functions $c(b)$ and $b(a)$, then \n",
        "\n",
        "$$\\frac{\\partial a}{\\partial c} = \\frac{\\partial a}{\\partial b} \\frac{\\partial b}{\\partial c}$$\n",
        "\n",
        "Going back to our regression model, let's assume that we have a layered process: \n",
        "\n",
        "$$x \\to h_\\theta(x) \\to \\mathcal{L}(h_\\theta)$$\n",
        "\n",
        "This implies that we can compute the partial of the trainable parameters $\\theta$ through a loss evaluation $\\mathcal{L}$ and a dense layer $h_\\theta(x)$ by the following relationship:\n",
        "\n",
        "$$\\frac{\\partial \\mathcal{L}}{\\partial \\theta} = \\frac{\\partial \\mathcal{h_\\theta}}{\\partial \\theta}\\frac{\\partial \\mathcal{L}}{\\partial h_\\theta}$$\n",
        "\n",
        "With a similar logic, you can also make the assertion that you can also get the partial with respect to the input $x$:\n",
        "\n",
        "$$\\frac{\\partial \\mathcal{L}}{\\partial x} = \\frac{\\partial h_\\theta}{\\partial x}\\frac{\\partial \\mathcal{L}}{\\partial h_\\theta}$$\n",
        "\n",
        "So... by the same token, is there anything stopping us from going further? Let's say that we decided to have another hypothesis function such that $x = h'_{\\theta'}(x')$ for some other hypothesis function and inputs? The new structure would then be: \n",
        "\n",
        "$$x' \\to \\big[ x = h'_{\\theta'}(x') \\big] \\to h_\\theta(x) \\to \\mathcal{L}(h_\\theta)$$\n",
        "\n",
        "Without the chain rule, coding in the facilities to optimize $\\theta'$ might have been tricky, but with the chain rule we know that:\n",
        "\n",
        "$$\\frac{\\partial \\mathcal{L}}{\\partial \\theta'} \n",
        "= \\frac{\\partial x}{\\partial \\theta'}\\frac{\\partial h}{\\partial x}\\frac{\\partial \\mathcal{L}}{\\partial h} \n",
        "= \\frac{\\partial x}{\\partial \\theta'}\\frac{\\partial \\mathcal{L}}{\\partial x}$$"
      ]
    },
    {
      "cell_type": "markdown",
      "metadata": {
        "id": "UUJfaOFpIJbD"
      },
      "source": [
        "Notice how this process is both predictable and scales very well! Say that we wanted to add some activation functions to restrict the range of the hypothesis functions. This trivially inserts into the chain and everything still works and will look something like this: \n",
        "\n",
        "$$ \\frac{\\partial \\mathcal{L}}{\\partial x} = \\frac{\\partial h}{\\partial x}\\frac{\\partial a}{\\partial h}\\frac{\\partial \\mathcal{L}}{\\partial a} \n",
        "\\ \\text{ and } \\ \\frac{\\partial \\mathcal{L}}{\\partial \\theta} = \\frac{\\partial h}{\\partial \\theta}\\frac{\\partial a}{\\partial h}\\frac{\\partial \\mathcal{L}}{\\partial a} \n",
        "$$"
      ]
    },
    {
      "cell_type": "markdown",
      "metadata": {
        "id": "KVyTXT5TIOsz"
      },
      "source": [
        "And with that, we start to approach the reason why this is such a powerful formulation: The cumulative nature of the process. Specifically, consider the process that needs to happen in order to compute this for the extended 2-layer example: \n",
        "\n",
        "$$\n",
        "\\begin{align}\n",
        "\\frac{\\partial a}{\\partial h}\\frac{\\partial \\mathcal{L}}{\\partial a} \n",
        "= \\frac{\\partial \\mathcal{L}}{\\partial h} \n",
        "&\\to \\cdots = \\frac{\\partial \\mathcal{L}}{\\partial x} \n",
        "&\\to \\cdots = \\frac{\\partial \\mathcal{L}}{\\partial a'}\n",
        "&\\to \\cdots = \\frac{\\partial \\mathcal{L}}{\\partial h'} \n",
        "&\\to \\cdots = \\frac{\\partial \\mathcal{L}}{\\partial x'} \n",
        "\\\\\n",
        "&\\searrow \\cdots = \\frac{\\partial \\mathcal{L}}{\\partial \\theta} \n",
        "&&&\\searrow \\cdots = \\frac{\\partial \\mathcal{L}}{\\partial \\theta'} \n",
        "% \\\\\n",
        "% &\\searrow \\cdots = \\frac{\\partial \\mathcal{L}}{\\partial \\theta} \n",
        "% \\to \\cdots = \\frac{\\partial \\mathcal{L}}{\\partial a'} \n",
        "% \\to \\cdots = \\frac{\\partial \\mathcal{L}}{\\partial h'} \n",
        "% &\n",
        "% \\to \\cdots = \\frac{\\partial \\mathcal{L}}{\\partial \\theta'} \n",
        "% \\\\ \n",
        "% &&\n",
        "% \\to \\cdots = \\frac{\\partial \\mathcal{L}}{\\partial x'} \n",
        "\\end{align}\n",
        "$$\n",
        "\n",
        "... and this is the process known as **back-propagation** *(and a special case of **auto-differentiation**)*!"
      ]
    },
    {
      "cell_type": "markdown",
      "metadata": {
        "id": "fdK16iXOVgta"
      },
      "source": [
        "-----"
      ]
    },
    {
      "cell_type": "markdown",
      "metadata": {
        "id": "MhgMs3u_S1OU"
      },
      "source": [
        "## Loading In Our Data"
      ]
    },
    {
      "cell_type": "markdown",
      "metadata": {
        "id": "tV7vjVbTf9Xg"
      },
      "source": [
        "The first thing we have to do is load in our data to use our model with. We'll be working with the [diabetes dataset from the sklearn package](https://scikit-learn.org/stable/datasets/toy_dataset.html#diabetes-dataset). We've already provided the code to load in the input data and the ground truth labels (stored as `X` and `Y` respectively below).\n",
        "\n",
        "**[TODO]:** Split the samples into training and testing sets. We'll train with the train set and reserve the testing set to evaluate the model's performance on samples it hasn't seen.\n",
        "\n",
        "The diabetes dataset has 442 samples. Each sample's input data has 10 data points for some key metrics, like age and cholesterol levels. The \"label\" is a number representing disease progression one year after baseline. Thus, `X` has shape `(442, 10)`, while `Y` has shape `(442,)`.\n",
        "\n",
        "**[TODO]:** Reshape the `Y` subsets to have shape `(num_samples, 1)`."
      ]
    },
    {
      "cell_type": "code",
      "execution_count": 94,
      "metadata": {
        "colab": {
          "base_uri": "https://localhost:8080/"
        },
        "id": "gytrDuxV5gFO",
        "outputId": "a28a0b2f-dbda-4955-9e5f-5d121fdb8c7c"
      },
      "outputs": [
        {
          "output_type": "stream",
          "name": "stdout",
          "text": [
            "> Input shape: (354, 10) for training, (88, 10) for testing\n",
            "> Label shape: (354, 1) for training, (88, 1) for testing\n"
          ]
        }
      ],
      "source": [
        "import numpy as np\n",
        "from sklearn.datasets import load_diabetes\n",
        "\n",
        "\n",
        "diabetes = load_diabetes()\n",
        "X, Y = diabetes.data, diabetes.target\n",
        "\n",
        "## TODO: Split the data into a 80%-20% training-testing split\n",
        "## TODO: Reshape the Y subsets to have shape (num_samples, 1)\n",
        "# 422 rows, 10 columns. need 80% of those rows\n",
        "train_size = int(0.2*len(X))\n",
        "X0 = X[train_size : int(len(X))]\n",
        "X1 = X[0: train_size]\n",
        "Y0 = Y[train_size : int(len(X))].reshape(-1, 1)\n",
        "Y1 = Y[0: train_size].reshape(-1, 1)\n",
        "\n",
        "\n",
        "print(f\"\"\"\n",
        "> Input shape: {X0.shape} for training, {X1.shape} for testing\n",
        "> Label shape: {Y0.shape} for training, {Y1.shape} for testing\n",
        "\"\"\".strip())"
      ]
    },
    {
      "cell_type": "markdown",
      "metadata": {
        "id": "CIYU_639VgHq"
      },
      "source": [
        "## **Exploring a possible modular implementation: PyTorch**"
      ]
    },
    {
      "cell_type": "markdown",
      "metadata": {
        "id": "YHs57_36jfDL"
      },
      "source": [
        "Next, we'll want to build up a Regression model interface, from which we can implement specific regression model classes, like the LinearRegression class we'll work with later. \n",
        "\n",
        "We subclass the `nn.Module class`, which represents any module (like a layer or model) of a deep learning system."
      ]
    },
    {
      "cell_type": "code",
      "execution_count": 95,
      "metadata": {
        "id": "DG6vkwv5chPg"
      },
      "outputs": [],
      "source": [
        "import torch\n",
        "import torch.nn as nn\n",
        "\n",
        "class Regression(nn.Module):\n",
        "\n",
        "    \"\"\"\n",
        "    Initialize all the inherent \"things\" inside of a model!\n",
        "    This includes things like the layers, activation/loss functions, and optimzer. \n",
        "    \"\"\"\n",
        "    def __init__(self, input_dims, output_dims):\n",
        "        self.device = torch.device(\"cuda:0\" if torch.cuda.is_available() else \"cpu\")        \n",
        "        super().__init__()\n",
        "        self.dense = nn.Linear(input_dims, output_dims).to(self.device)   \n",
        "        self.activation = None  ## To be specified in subclasses \n",
        "        self.loss = None        ## To be specified in subclasses \n",
        "        self.set_learning_rate()\n",
        "\n",
        "    \"\"\"\n",
        "    Sets up the optmizer\n",
        "    \"\"\"\n",
        "    def set_learning_rate(self, learning_rate=0.001):\n",
        "        self.optimizer = torch.optim.SGD(self.parameters(), lr=learning_rate) ## Simple stochastic gradient descent (SGD) optimizer\n",
        "\n",
        "    \"\"\"\n",
        "    Forward pass of the model\n",
        "    Given an input x, how does the model process the input to get its output?\n",
        "    \"\"\"\n",
        "    def forward(self, x):\n",
        "        x = self.dense(x)\n",
        "        x = self.activation(x)\n",
        "        return x\n"
      ]
    },
    {
      "cell_type": "markdown",
      "metadata": {
        "id": "rTzEFlA0TFZB"
      },
      "source": [
        "## Adding a PyTorch Training/Evaluation Routine"
      ]
    },
    {
      "cell_type": "markdown",
      "metadata": {
        "id": "JBSK640PoDWX"
      },
      "source": [
        "Now that we have the basis for a Regression model, we need to describe how to train (`fit`) and evaluate (`evaluate`) our model, given data. \n",
        "Every epoch, we want to fit our model to the training data, and then evaluate our model on the testing data."
      ]
    },
    {
      "cell_type": "code",
      "execution_count": 96,
      "metadata": {
        "id": "aUetVEGtS9k9"
      },
      "outputs": [],
      "source": [
        "class TrainTest:\n",
        "\n",
        "    no_grad = torch.no_grad\n",
        "\n",
        "    def fit(self, data):\n",
        "        ## Training loop\n",
        "        self.train()        ## Set model into training mode\n",
        "        ## Iterate over the data batches\n",
        "        for batch, (inputs, target) in enumerate(data):\n",
        "            ## In real pytorch, you'd need to set the device\n",
        "            inputs = inputs.to(self.device)\n",
        "            target = target.to(self.device)\n",
        "            ## Erase the gradient history\n",
        "            self.optimizer.zero_grad()\n",
        "            ## Do a forward pass on the model\n",
        "            output = self(inputs)\n",
        "            ## Compute the loss\n",
        "            loss = self.loss(output, target)\n",
        "            ## Run backwards pass from the loss through the previous layers\n",
        "            ## This will accumulate gradients for the parameters that need to be optimized\n",
        "            loss.backward()\n",
        "            ## Perform a single optimization step\n",
        "            self.optimizer.step()\n",
        "        return {'loss' : loss}\n",
        "\n",
        "    def evaluate(self, data):\n",
        "        ## Set model into \"evaluate\" mode so that the parameters don't get updated\n",
        "        self.eval()\n",
        "        total_loss = 0\n",
        "        ## Cut off the tensor training scope to make sure weights aren't updated\n",
        "        ## For now, it's torch.no_grad; later, you'll use Tensor.no_grad\n",
        "        with TrainTest.no_grad():\n",
        "            for inputs, target in data:\n",
        "                ## In real pytorch, you'd need to set the device\n",
        "                inputs = inputs.to(self.device)\n",
        "                target = target.to(self.device)\n",
        "                output = self(inputs)\n",
        "                total_loss += self.loss(output, target).item()  # sum up batch loss\n",
        "\n",
        "        total_loss /= len(data)\n",
        "        return {'test_loss' : total_loss}\n",
        "        \n",
        "    def train_test(self, train_data, test_data, epochs=1):\n",
        "        ## Does both training and validation on a per-epoch basis\n",
        "        all_stats = []\n",
        "        for epoch in range(epochs):\n",
        "            train_stats = self.fit(train_data)\n",
        "            test_stats = self.evaluate(test_data)\n",
        "            all_stats += [{**train_stats, **test_stats}]\n",
        "            print(f'[Epoch {epoch+1}/{epochs}]', all_stats[-1])\n",
        "        return all_stats"
      ]
    },
    {
      "cell_type": "markdown",
      "metadata": {
        "id": "YDNhzYnUTNMa"
      },
      "source": [
        "## Making Linear Regression with Train/Test Capabilities"
      ]
    },
    {
      "cell_type": "markdown",
      "metadata": {
        "id": "njv7q2UTTgQE"
      },
      "source": [
        "Next, we implement the `LinearRegression` class, which subclasses both `Regression` and `TrainTest` to inherit useful methods. \n",
        "\n",
        "Consider a dense layer represented by $Y = XA + B$ where: \n",
        "- $X$ has shape `(n,input_dims)`\n",
        "- $A$ has shape `(input_dims,output_dims)`\n",
        "- $B$ has shape `(n,)`\n",
        "- $Y$ has shape `(n, output_dims)`. \n",
        "\n",
        "Let each row of $X, B, Y$ (or the 0$^\\text{th}$ dimension) represent a different sample. Disregarding bias, note how any given row in $Y$ is a set of linear combinations of the same row in $X$. In other words, a Dense Layer is high-dimensional Linear Regression. \n",
        "\n",
        "Once you've built up your model, try training and testing it in the code block below!"
      ]
    },
    {
      "cell_type": "code",
      "execution_count": 97,
      "metadata": {
        "id": "gYU8NKSdTc4W"
      },
      "outputs": [],
      "source": [
        "class LinearRegression(Regression, TrainTest):\n",
        "    def __init__(self, input_dims, output_dims):\n",
        "        super().__init__(input_dims, output_dims)\n",
        "        self.activation = nn.Identity()\n",
        "        self.loss = nn.MSELoss()"
      ]
    },
    {
      "cell_type": "code",
      "execution_count": 98,
      "metadata": {
        "colab": {
          "base_uri": "https://localhost:8080/"
        },
        "id": "FBUaTs3N_hmn",
        "outputId": "62c6f2d7-219d-45e7-ff3e-b4e5a35563e8"
      },
      "outputs": [
        {
          "output_type": "stream",
          "name": "stdout",
          "text": [
            "[Epoch 1/200] {'loss': tensor(30486.2070, grad_fn=<MseLossBackward0>), 'test_loss': 6578.00732421875}\n",
            "[Epoch 2/200] {'loss': tensor(9980.0781, grad_fn=<MseLossBackward0>), 'test_loss': 4815.94091796875}\n",
            "[Epoch 3/200] {'loss': tensor(6678.2480, grad_fn=<MseLossBackward0>), 'test_loss': 4881.97802734375}\n",
            "[Epoch 4/200] {'loss': tensor(6128.7046, grad_fn=<MseLossBackward0>), 'test_loss': 5021.32666015625}\n",
            "[Epoch 5/200] {'loss': tensor(6019.6396, grad_fn=<MseLossBackward0>), 'test_loss': 5085.34423828125}\n",
            "[Epoch 6/200] {'loss': tensor(5981.2471, grad_fn=<MseLossBackward0>), 'test_loss': 5102.7861328125}\n",
            "[Epoch 7/200] {'loss': tensor(5954.3652, grad_fn=<MseLossBackward0>), 'test_loss': 5099.14892578125}\n",
            "[Epoch 8/200] {'loss': tensor(5929.5298, grad_fn=<MseLossBackward0>), 'test_loss': 5086.82080078125}\n",
            "[Epoch 9/200] {'loss': tensor(5905.2251, grad_fn=<MseLossBackward0>), 'test_loss': 5071.09033203125}\n",
            "[Epoch 10/200] {'loss': tensor(5881.2056, grad_fn=<MseLossBackward0>), 'test_loss': 5054.115234375}\n",
            "[Epoch 11/200] {'loss': tensor(5857.4297, grad_fn=<MseLossBackward0>), 'test_loss': 5036.76318359375}\n",
            "[Epoch 12/200] {'loss': tensor(5833.8901, grad_fn=<MseLossBackward0>), 'test_loss': 5019.37841796875}\n",
            "[Epoch 13/200] {'loss': tensor(5810.5825, grad_fn=<MseLossBackward0>), 'test_loss': 5002.09814453125}\n",
            "[Epoch 14/200] {'loss': tensor(5787.5054, grad_fn=<MseLossBackward0>), 'test_loss': 4984.97314453125}\n",
            "[Epoch 15/200] {'loss': tensor(5764.6538, grad_fn=<MseLossBackward0>), 'test_loss': 4968.025390625}\n",
            "[Epoch 16/200] {'loss': tensor(5742.0278, grad_fn=<MseLossBackward0>), 'test_loss': 4951.259765625}\n",
            "[Epoch 17/200] {'loss': tensor(5719.6230, grad_fn=<MseLossBackward0>), 'test_loss': 4934.67919921875}\n",
            "[Epoch 18/200] {'loss': tensor(5697.4395, grad_fn=<MseLossBackward0>), 'test_loss': 4918.28125}\n",
            "[Epoch 19/200] {'loss': tensor(5675.4727, grad_fn=<MseLossBackward0>), 'test_loss': 4902.06591796875}\n",
            "[Epoch 20/200] {'loss': tensor(5653.7207, grad_fn=<MseLossBackward0>), 'test_loss': 4886.02978515625}\n",
            "[Epoch 21/200] {'loss': tensor(5632.1831, grad_fn=<MseLossBackward0>), 'test_loss': 4870.17138671875}\n",
            "[Epoch 22/200] {'loss': tensor(5610.8550, grad_fn=<MseLossBackward0>), 'test_loss': 4854.4892578125}\n",
            "[Epoch 23/200] {'loss': tensor(5589.7363, grad_fn=<MseLossBackward0>), 'test_loss': 4838.98095703125}\n",
            "[Epoch 24/200] {'loss': tensor(5568.8232, grad_fn=<MseLossBackward0>), 'test_loss': 4823.64404296875}\n",
            "[Epoch 25/200] {'loss': tensor(5548.1143, grad_fn=<MseLossBackward0>), 'test_loss': 4808.47802734375}\n",
            "[Epoch 26/200] {'loss': tensor(5527.6074, grad_fn=<MseLossBackward0>), 'test_loss': 4793.4794921875}\n",
            "[Epoch 27/200] {'loss': tensor(5507.3003, grad_fn=<MseLossBackward0>), 'test_loss': 4778.64697265625}\n",
            "[Epoch 28/200] {'loss': tensor(5487.1914, grad_fn=<MseLossBackward0>), 'test_loss': 4763.97802734375}\n",
            "[Epoch 29/200] {'loss': tensor(5467.2773, grad_fn=<MseLossBackward0>), 'test_loss': 4749.47216796875}\n",
            "[Epoch 30/200] {'loss': tensor(5447.5571, grad_fn=<MseLossBackward0>), 'test_loss': 4735.126953125}\n",
            "[Epoch 31/200] {'loss': tensor(5428.0288, grad_fn=<MseLossBackward0>), 'test_loss': 4720.93994140625}\n",
            "[Epoch 32/200] {'loss': tensor(5408.6899, grad_fn=<MseLossBackward0>), 'test_loss': 4706.90966796875}\n",
            "[Epoch 33/200] {'loss': tensor(5389.5376, grad_fn=<MseLossBackward0>), 'test_loss': 4693.03369140625}\n",
            "[Epoch 34/200] {'loss': tensor(5370.5723, grad_fn=<MseLossBackward0>), 'test_loss': 4679.31103515625}\n",
            "[Epoch 35/200] {'loss': tensor(5351.7891, grad_fn=<MseLossBackward0>), 'test_loss': 4665.73974609375}\n",
            "[Epoch 36/200] {'loss': tensor(5333.1885, grad_fn=<MseLossBackward0>), 'test_loss': 4652.31884765625}\n",
            "[Epoch 37/200] {'loss': tensor(5314.7676, grad_fn=<MseLossBackward0>), 'test_loss': 4639.04541015625}\n",
            "[Epoch 38/200] {'loss': tensor(5296.5244, grad_fn=<MseLossBackward0>), 'test_loss': 4625.91748046875}\n",
            "[Epoch 39/200] {'loss': tensor(5278.4570, grad_fn=<MseLossBackward0>), 'test_loss': 4612.935546875}\n",
            "[Epoch 40/200] {'loss': tensor(5260.5645, grad_fn=<MseLossBackward0>), 'test_loss': 4600.09423828125}\n",
            "[Epoch 41/200] {'loss': tensor(5242.8428, grad_fn=<MseLossBackward0>), 'test_loss': 4587.3955078125}\n",
            "[Epoch 42/200] {'loss': tensor(5225.2930, grad_fn=<MseLossBackward0>), 'test_loss': 4574.83642578125}\n",
            "[Epoch 43/200] {'loss': tensor(5207.9111, grad_fn=<MseLossBackward0>), 'test_loss': 4562.41455078125}\n",
            "[Epoch 44/200] {'loss': tensor(5190.6953, grad_fn=<MseLossBackward0>), 'test_loss': 4550.12939453125}\n",
            "[Epoch 45/200] {'loss': tensor(5173.6460, grad_fn=<MseLossBackward0>), 'test_loss': 4537.97998046875}\n",
            "[Epoch 46/200] {'loss': tensor(5156.7598, grad_fn=<MseLossBackward0>), 'test_loss': 4525.962890625}\n",
            "[Epoch 47/200] {'loss': tensor(5140.0352, grad_fn=<MseLossBackward0>), 'test_loss': 4514.07763671875}\n",
            "[Epoch 48/200] {'loss': tensor(5123.4712, grad_fn=<MseLossBackward0>), 'test_loss': 4502.322265625}\n",
            "[Epoch 49/200] {'loss': tensor(5107.0645, grad_fn=<MseLossBackward0>), 'test_loss': 4490.69580078125}\n",
            "[Epoch 50/200] {'loss': tensor(5090.8149, grad_fn=<MseLossBackward0>), 'test_loss': 4479.197265625}\n",
            "[Epoch 51/200] {'loss': tensor(5074.7202, grad_fn=<MseLossBackward0>), 'test_loss': 4467.8232421875}\n",
            "[Epoch 52/200] {'loss': tensor(5058.7798, grad_fn=<MseLossBackward0>), 'test_loss': 4456.57373046875}\n",
            "[Epoch 53/200] {'loss': tensor(5042.9902, grad_fn=<MseLossBackward0>), 'test_loss': 4445.447265625}\n",
            "[Epoch 54/200] {'loss': tensor(5027.3511, grad_fn=<MseLossBackward0>), 'test_loss': 4434.44189453125}\n",
            "[Epoch 55/200] {'loss': tensor(5011.8604, grad_fn=<MseLossBackward0>), 'test_loss': 4423.556640625}\n",
            "[Epoch 56/200] {'loss': tensor(4996.5171, grad_fn=<MseLossBackward0>), 'test_loss': 4412.78955078125}\n",
            "[Epoch 57/200] {'loss': tensor(4981.3193, grad_fn=<MseLossBackward0>), 'test_loss': 4402.14111328125}\n",
            "[Epoch 58/200] {'loss': tensor(4966.2651, grad_fn=<MseLossBackward0>), 'test_loss': 4391.60791015625}\n",
            "[Epoch 59/200] {'loss': tensor(4951.3535, grad_fn=<MseLossBackward0>), 'test_loss': 4381.18896484375}\n",
            "[Epoch 60/200] {'loss': tensor(4936.5835, grad_fn=<MseLossBackward0>), 'test_loss': 4370.8828125}\n",
            "[Epoch 61/200] {'loss': tensor(4921.9521, grad_fn=<MseLossBackward0>), 'test_loss': 4360.68896484375}\n",
            "[Epoch 62/200] {'loss': tensor(4907.4595, grad_fn=<MseLossBackward0>), 'test_loss': 4350.60595703125}\n",
            "[Epoch 63/200] {'loss': tensor(4893.1035, grad_fn=<MseLossBackward0>), 'test_loss': 4340.63232421875}\n",
            "[Epoch 64/200] {'loss': tensor(4878.8823, grad_fn=<MseLossBackward0>), 'test_loss': 4330.76611328125}\n",
            "[Epoch 65/200] {'loss': tensor(4864.7954, grad_fn=<MseLossBackward0>), 'test_loss': 4321.0078125}\n",
            "[Epoch 66/200] {'loss': tensor(4850.8403, grad_fn=<MseLossBackward0>), 'test_loss': 4311.3544921875}\n",
            "[Epoch 67/200] {'loss': tensor(4837.0171, grad_fn=<MseLossBackward0>), 'test_loss': 4301.80517578125}\n",
            "[Epoch 68/200] {'loss': tensor(4823.3232, grad_fn=<MseLossBackward0>), 'test_loss': 4292.35986328125}\n",
            "[Epoch 69/200] {'loss': tensor(4809.7568, grad_fn=<MseLossBackward0>), 'test_loss': 4283.01611328125}\n",
            "[Epoch 70/200] {'loss': tensor(4796.3184, grad_fn=<MseLossBackward0>), 'test_loss': 4273.77294921875}\n",
            "[Epoch 71/200] {'loss': tensor(4783.0054, grad_fn=<MseLossBackward0>), 'test_loss': 4264.62939453125}\n",
            "[Epoch 72/200] {'loss': tensor(4769.8159, grad_fn=<MseLossBackward0>), 'test_loss': 4255.5849609375}\n",
            "[Epoch 73/200] {'loss': tensor(4756.7510, grad_fn=<MseLossBackward0>), 'test_loss': 4246.63720703125}\n",
            "[Epoch 74/200] {'loss': tensor(4743.8066, grad_fn=<MseLossBackward0>), 'test_loss': 4237.78515625}\n",
            "[Epoch 75/200] {'loss': tensor(4730.9829, grad_fn=<MseLossBackward0>), 'test_loss': 4229.02880859375}\n",
            "[Epoch 76/200] {'loss': tensor(4718.2788, grad_fn=<MseLossBackward0>), 'test_loss': 4220.3662109375}\n",
            "[Epoch 77/200] {'loss': tensor(4705.6924, grad_fn=<MseLossBackward0>), 'test_loss': 4211.796875}\n",
            "[Epoch 78/200] {'loss': tensor(4693.2231, grad_fn=<MseLossBackward0>), 'test_loss': 4203.31884765625}\n",
            "[Epoch 79/200] {'loss': tensor(4680.8691, grad_fn=<MseLossBackward0>), 'test_loss': 4194.931640625}\n",
            "[Epoch 80/200] {'loss': tensor(4668.6294, grad_fn=<MseLossBackward0>), 'test_loss': 4186.634765625}\n",
            "[Epoch 81/200] {'loss': tensor(4656.5034, grad_fn=<MseLossBackward0>), 'test_loss': 4178.42529296875}\n",
            "[Epoch 82/200] {'loss': tensor(4644.4888, grad_fn=<MseLossBackward0>), 'test_loss': 4170.3046875}\n",
            "[Epoch 83/200] {'loss': tensor(4632.5854, grad_fn=<MseLossBackward0>), 'test_loss': 4162.27001953125}\n",
            "[Epoch 84/200] {'loss': tensor(4620.7915, grad_fn=<MseLossBackward0>), 'test_loss': 4154.32080078125}\n",
            "[Epoch 85/200] {'loss': tensor(4609.1060, grad_fn=<MseLossBackward0>), 'test_loss': 4146.45703125}\n",
            "[Epoch 86/200] {'loss': tensor(4597.5283, grad_fn=<MseLossBackward0>), 'test_loss': 4138.67529296875}\n",
            "[Epoch 87/200] {'loss': tensor(4586.0571, grad_fn=<MseLossBackward0>), 'test_loss': 4130.9775390625}\n",
            "[Epoch 88/200] {'loss': tensor(4574.6909, grad_fn=<MseLossBackward0>), 'test_loss': 4123.36083984375}\n",
            "[Epoch 89/200] {'loss': tensor(4563.4282, grad_fn=<MseLossBackward0>), 'test_loss': 4115.8251953125}\n",
            "[Epoch 90/200] {'loss': tensor(4552.2695, grad_fn=<MseLossBackward0>), 'test_loss': 4108.369140625}\n",
            "[Epoch 91/200] {'loss': tensor(4541.2124, grad_fn=<MseLossBackward0>), 'test_loss': 4100.99169921875}\n",
            "[Epoch 92/200] {'loss': tensor(4530.2563, grad_fn=<MseLossBackward0>), 'test_loss': 4093.69287109375}\n",
            "[Epoch 93/200] {'loss': tensor(4519.3999, grad_fn=<MseLossBackward0>), 'test_loss': 4086.470458984375}\n",
            "[Epoch 94/200] {'loss': tensor(4508.6431, grad_fn=<MseLossBackward0>), 'test_loss': 4079.324462890625}\n",
            "[Epoch 95/200] {'loss': tensor(4497.9834, grad_fn=<MseLossBackward0>), 'test_loss': 4072.25390625}\n",
            "[Epoch 96/200] {'loss': tensor(4487.4204, grad_fn=<MseLossBackward0>), 'test_loss': 4065.257080078125}\n",
            "[Epoch 97/200] {'loss': tensor(4476.9536, grad_fn=<MseLossBackward0>), 'test_loss': 4058.33447265625}\n",
            "[Epoch 98/200] {'loss': tensor(4466.5815, grad_fn=<MseLossBackward0>), 'test_loss': 4051.484375}\n",
            "[Epoch 99/200] {'loss': tensor(4456.3032, grad_fn=<MseLossBackward0>), 'test_loss': 4044.70556640625}\n",
            "[Epoch 100/200] {'loss': tensor(4446.1182, grad_fn=<MseLossBackward0>), 'test_loss': 4037.99853515625}\n",
            "[Epoch 101/200] {'loss': tensor(4436.0249, grad_fn=<MseLossBackward0>), 'test_loss': 4031.361083984375}\n",
            "[Epoch 102/200] {'loss': tensor(4426.0225, grad_fn=<MseLossBackward0>), 'test_loss': 4024.79296875}\n",
            "[Epoch 103/200] {'loss': tensor(4416.1104, grad_fn=<MseLossBackward0>), 'test_loss': 4018.293701171875}\n",
            "[Epoch 104/200] {'loss': tensor(4406.2876, grad_fn=<MseLossBackward0>), 'test_loss': 4011.861572265625}\n",
            "[Epoch 105/200] {'loss': tensor(4396.5527, grad_fn=<MseLossBackward0>), 'test_loss': 4005.4970703125}\n",
            "[Epoch 106/200] {'loss': tensor(4386.9048, grad_fn=<MseLossBackward0>), 'test_loss': 3999.198486328125}\n",
            "[Epoch 107/200] {'loss': tensor(4377.3442, grad_fn=<MseLossBackward0>), 'test_loss': 3992.965087890625}\n",
            "[Epoch 108/200] {'loss': tensor(4367.8691, grad_fn=<MseLossBackward0>), 'test_loss': 3986.796875}\n",
            "[Epoch 109/200] {'loss': tensor(4358.4775, grad_fn=<MseLossBackward0>), 'test_loss': 3980.691650390625}\n",
            "[Epoch 110/200] {'loss': tensor(4349.1714, grad_fn=<MseLossBackward0>), 'test_loss': 3974.650146484375}\n",
            "[Epoch 111/200] {'loss': tensor(4339.9463, grad_fn=<MseLossBackward0>), 'test_loss': 3968.6708984375}\n",
            "[Epoch 112/200] {'loss': tensor(4330.8047, grad_fn=<MseLossBackward0>), 'test_loss': 3962.753662109375}\n",
            "[Epoch 113/200] {'loss': tensor(4321.7437, grad_fn=<MseLossBackward0>), 'test_loss': 3956.896728515625}\n",
            "[Epoch 114/200] {'loss': tensor(4312.7632, grad_fn=<MseLossBackward0>), 'test_loss': 3951.10009765625}\n",
            "[Epoch 115/200] {'loss': tensor(4303.8628, grad_fn=<MseLossBackward0>), 'test_loss': 3945.36328125}\n",
            "[Epoch 116/200] {'loss': tensor(4295.0405, grad_fn=<MseLossBackward0>), 'test_loss': 3939.68505859375}\n",
            "[Epoch 117/200] {'loss': tensor(4286.2964, grad_fn=<MseLossBackward0>), 'test_loss': 3934.0654296875}\n",
            "[Epoch 118/200] {'loss': tensor(4277.6299, grad_fn=<MseLossBackward0>), 'test_loss': 3928.50244140625}\n",
            "[Epoch 119/200] {'loss': tensor(4269.0396, grad_fn=<MseLossBackward0>), 'test_loss': 3922.9970703125}\n",
            "[Epoch 120/200] {'loss': tensor(4260.5249, grad_fn=<MseLossBackward0>), 'test_loss': 3917.547607421875}\n",
            "[Epoch 121/200] {'loss': tensor(4252.0850, grad_fn=<MseLossBackward0>), 'test_loss': 3912.1533203125}\n",
            "[Epoch 122/200] {'loss': tensor(4243.7188, grad_fn=<MseLossBackward0>), 'test_loss': 3906.81396484375}\n",
            "[Epoch 123/200] {'loss': tensor(4235.4268, grad_fn=<MseLossBackward0>), 'test_loss': 3901.52880859375}\n",
            "[Epoch 124/200] {'loss': tensor(4227.2065, grad_fn=<MseLossBackward0>), 'test_loss': 3896.297607421875}\n",
            "[Epoch 125/200] {'loss': tensor(4219.0581, grad_fn=<MseLossBackward0>), 'test_loss': 3891.119384765625}\n",
            "[Epoch 126/200] {'loss': tensor(4210.9814, grad_fn=<MseLossBackward0>), 'test_loss': 3885.992919921875}\n",
            "[Epoch 127/200] {'loss': tensor(4202.9751, grad_fn=<MseLossBackward0>), 'test_loss': 3880.918212890625}\n",
            "[Epoch 128/200] {'loss': tensor(4195.0376, grad_fn=<MseLossBackward0>), 'test_loss': 3875.894287109375}\n",
            "[Epoch 129/200] {'loss': tensor(4187.1704, grad_fn=<MseLossBackward0>), 'test_loss': 3870.921630859375}\n",
            "[Epoch 130/200] {'loss': tensor(4179.3706, grad_fn=<MseLossBackward0>), 'test_loss': 3865.99853515625}\n",
            "[Epoch 131/200] {'loss': tensor(4171.6382, grad_fn=<MseLossBackward0>), 'test_loss': 3861.125}\n",
            "[Epoch 132/200] {'loss': tensor(4163.9731, grad_fn=<MseLossBackward0>), 'test_loss': 3856.2998046875}\n",
            "[Epoch 133/200] {'loss': tensor(4156.3745, grad_fn=<MseLossBackward0>), 'test_loss': 3851.522705078125}\n",
            "[Epoch 134/200] {'loss': tensor(4148.8408, grad_fn=<MseLossBackward0>), 'test_loss': 3846.793212890625}\n",
            "[Epoch 135/200] {'loss': tensor(4141.3716, grad_fn=<MseLossBackward0>), 'test_loss': 3842.111572265625}\n",
            "[Epoch 136/200] {'loss': tensor(4133.9683, grad_fn=<MseLossBackward0>), 'test_loss': 3837.475830078125}\n",
            "[Epoch 137/200] {'loss': tensor(4126.6270, grad_fn=<MseLossBackward0>), 'test_loss': 3832.885986328125}\n",
            "[Epoch 138/200] {'loss': tensor(4119.3491, grad_fn=<MseLossBackward0>), 'test_loss': 3828.341552734375}\n",
            "[Epoch 139/200] {'loss': tensor(4112.1343, grad_fn=<MseLossBackward0>), 'test_loss': 3823.84228515625}\n",
            "[Epoch 140/200] {'loss': tensor(4104.9795, grad_fn=<MseLossBackward0>), 'test_loss': 3819.387451171875}\n",
            "[Epoch 141/200] {'loss': tensor(4097.8877, grad_fn=<MseLossBackward0>), 'test_loss': 3814.976318359375}\n",
            "[Epoch 142/200] {'loss': tensor(4090.8552, grad_fn=<MseLossBackward0>), 'test_loss': 3810.6083984375}\n",
            "[Epoch 143/200] {'loss': tensor(4083.8828, grad_fn=<MseLossBackward0>), 'test_loss': 3806.282958984375}\n",
            "[Epoch 144/200] {'loss': tensor(4076.9692, grad_fn=<MseLossBackward0>), 'test_loss': 3802.000732421875}\n",
            "[Epoch 145/200] {'loss': tensor(4070.1147, grad_fn=<MseLossBackward0>), 'test_loss': 3797.75927734375}\n",
            "[Epoch 146/200] {'loss': tensor(4063.3179, grad_fn=<MseLossBackward0>), 'test_loss': 3793.5595703125}\n",
            "[Epoch 147/200] {'loss': tensor(4056.5791, grad_fn=<MseLossBackward0>), 'test_loss': 3789.40087890625}\n",
            "[Epoch 148/200] {'loss': tensor(4049.8970, grad_fn=<MseLossBackward0>), 'test_loss': 3785.28271484375}\n",
            "[Epoch 149/200] {'loss': tensor(4043.2712, grad_fn=<MseLossBackward0>), 'test_loss': 3781.2041015625}\n",
            "[Epoch 150/200] {'loss': tensor(4036.7002, grad_fn=<MseLossBackward0>), 'test_loss': 3777.165771484375}\n",
            "[Epoch 151/200] {'loss': tensor(4030.1860, grad_fn=<MseLossBackward0>), 'test_loss': 3773.16552734375}\n",
            "[Epoch 152/200] {'loss': tensor(4023.7253, grad_fn=<MseLossBackward0>), 'test_loss': 3769.203857421875}\n",
            "[Epoch 153/200] {'loss': tensor(4017.3196, grad_fn=<MseLossBackward0>), 'test_loss': 3765.280517578125}\n",
            "[Epoch 154/200] {'loss': tensor(4010.9666, grad_fn=<MseLossBackward0>), 'test_loss': 3761.39453125}\n",
            "[Epoch 155/200] {'loss': tensor(4004.6667, grad_fn=<MseLossBackward0>), 'test_loss': 3757.546142578125}\n",
            "[Epoch 156/200] {'loss': tensor(3998.4199, grad_fn=<MseLossBackward0>), 'test_loss': 3753.733642578125}\n",
            "[Epoch 157/200] {'loss': tensor(3992.2246, grad_fn=<MseLossBackward0>), 'test_loss': 3749.9580078125}\n",
            "[Epoch 158/200] {'loss': tensor(3986.0808, grad_fn=<MseLossBackward0>), 'test_loss': 3746.218017578125}\n",
            "[Epoch 159/200] {'loss': tensor(3979.9873, grad_fn=<MseLossBackward0>), 'test_loss': 3742.513916015625}\n",
            "[Epoch 160/200] {'loss': tensor(3973.9453, grad_fn=<MseLossBackward0>), 'test_loss': 3738.8447265625}\n",
            "[Epoch 161/200] {'loss': tensor(3967.9526, grad_fn=<MseLossBackward0>), 'test_loss': 3735.210205078125}\n",
            "[Epoch 162/200] {'loss': tensor(3962.0098, grad_fn=<MseLossBackward0>), 'test_loss': 3731.609619140625}\n",
            "[Epoch 163/200] {'loss': tensor(3956.1155, grad_fn=<MseLossBackward0>), 'test_loss': 3728.043701171875}\n",
            "[Epoch 164/200] {'loss': tensor(3950.2700, grad_fn=<MseLossBackward0>), 'test_loss': 3724.5107421875}\n",
            "[Epoch 165/200] {'loss': tensor(3944.4724, grad_fn=<MseLossBackward0>), 'test_loss': 3721.0107421875}\n",
            "[Epoch 166/200] {'loss': tensor(3938.7222, grad_fn=<MseLossBackward0>), 'test_loss': 3717.54296875}\n",
            "[Epoch 167/200] {'loss': tensor(3933.0190, grad_fn=<MseLossBackward0>), 'test_loss': 3714.107666015625}\n",
            "[Epoch 168/200] {'loss': tensor(3927.3623, grad_fn=<MseLossBackward0>), 'test_loss': 3710.7041015625}\n",
            "[Epoch 169/200] {'loss': tensor(3921.7517, grad_fn=<MseLossBackward0>), 'test_loss': 3707.332763671875}\n",
            "[Epoch 170/200] {'loss': tensor(3916.1868, grad_fn=<MseLossBackward0>), 'test_loss': 3703.9921875}\n",
            "[Epoch 171/200] {'loss': tensor(3910.6670, grad_fn=<MseLossBackward0>), 'test_loss': 3700.6826171875}\n",
            "[Epoch 172/200] {'loss': tensor(3905.1929, grad_fn=<MseLossBackward0>), 'test_loss': 3697.402587890625}\n",
            "[Epoch 173/200] {'loss': tensor(3899.7617, grad_fn=<MseLossBackward0>), 'test_loss': 3694.15380859375}\n",
            "[Epoch 174/200] {'loss': tensor(3894.3750, grad_fn=<MseLossBackward0>), 'test_loss': 3690.933837890625}\n",
            "[Epoch 175/200] {'loss': tensor(3889.0317, grad_fn=<MseLossBackward0>), 'test_loss': 3687.74365234375}\n",
            "[Epoch 176/200] {'loss': tensor(3883.7312, grad_fn=<MseLossBackward0>), 'test_loss': 3684.582275390625}\n",
            "[Epoch 177/200] {'loss': tensor(3878.4739, grad_fn=<MseLossBackward0>), 'test_loss': 3681.4501953125}\n",
            "[Epoch 178/200] {'loss': tensor(3873.2578, grad_fn=<MseLossBackward0>), 'test_loss': 3678.345947265625}\n",
            "[Epoch 179/200] {'loss': tensor(3868.0837, grad_fn=<MseLossBackward0>), 'test_loss': 3675.26953125}\n",
            "[Epoch 180/200] {'loss': tensor(3862.9509, grad_fn=<MseLossBackward0>), 'test_loss': 3672.220947265625}\n",
            "[Epoch 181/200] {'loss': tensor(3857.8599, grad_fn=<MseLossBackward0>), 'test_loss': 3669.199462890625}\n",
            "[Epoch 182/200] {'loss': tensor(3852.8091, grad_fn=<MseLossBackward0>), 'test_loss': 3666.20556640625}\n",
            "[Epoch 183/200] {'loss': tensor(3847.7981, grad_fn=<MseLossBackward0>), 'test_loss': 3663.238525390625}\n",
            "[Epoch 184/200] {'loss': tensor(3842.8267, grad_fn=<MseLossBackward0>), 'test_loss': 3660.296875}\n",
            "[Epoch 185/200] {'loss': tensor(3837.8948, grad_fn=<MseLossBackward0>), 'test_loss': 3657.382080078125}\n",
            "[Epoch 186/200] {'loss': tensor(3833.0017, grad_fn=<MseLossBackward0>), 'test_loss': 3654.492919921875}\n",
            "[Epoch 187/200] {'loss': tensor(3828.1477, grad_fn=<MseLossBackward0>), 'test_loss': 3651.629150390625}\n",
            "[Epoch 188/200] {'loss': tensor(3823.3313, grad_fn=<MseLossBackward0>), 'test_loss': 3648.790771484375}\n",
            "[Epoch 189/200] {'loss': tensor(3818.5530, grad_fn=<MseLossBackward0>), 'test_loss': 3645.977294921875}\n",
            "[Epoch 190/200] {'loss': tensor(3813.8127, grad_fn=<MseLossBackward0>), 'test_loss': 3643.188232421875}\n",
            "[Epoch 191/200] {'loss': tensor(3809.1086, grad_fn=<MseLossBackward0>), 'test_loss': 3640.4228515625}\n",
            "[Epoch 192/200] {'loss': tensor(3804.4421, grad_fn=<MseLossBackward0>), 'test_loss': 3637.6826171875}\n",
            "[Epoch 193/200] {'loss': tensor(3799.8118, grad_fn=<MseLossBackward0>), 'test_loss': 3634.9658203125}\n",
            "[Epoch 194/200] {'loss': tensor(3795.2175, grad_fn=<MseLossBackward0>), 'test_loss': 3632.2724609375}\n",
            "[Epoch 195/200] {'loss': tensor(3790.6582, grad_fn=<MseLossBackward0>), 'test_loss': 3629.6015625}\n",
            "[Epoch 196/200] {'loss': tensor(3786.1353, grad_fn=<MseLossBackward0>), 'test_loss': 3626.9541015625}\n",
            "[Epoch 197/200] {'loss': tensor(3781.6465, grad_fn=<MseLossBackward0>), 'test_loss': 3624.329833984375}\n",
            "[Epoch 198/200] {'loss': tensor(3777.1931, grad_fn=<MseLossBackward0>), 'test_loss': 3621.7275390625}\n",
            "[Epoch 199/200] {'loss': tensor(3772.7737, grad_fn=<MseLossBackward0>), 'test_loss': 3619.1474609375}\n",
            "[Epoch 200/200] {'loss': tensor(3768.3877, grad_fn=<MseLossBackward0>), 'test_loss': 3616.5888671875}\n"
          ]
        }
      ],
      "source": [
        "torch_model = LinearRegression(X0.shape[-1], 1)\n",
        "torch_model.set_learning_rate(0.3)\n",
        "torch_model.train_test(\n",
        "    [[torch.Tensor(X0), torch.Tensor(Y0)]], \n",
        "    [[torch.Tensor(X1), torch.Tensor(Y1)]],\n",
        "    epochs=200\n",
        ");"
      ]
    },
    {
      "cell_type": "markdown",
      "metadata": {
        "id": "H63TERfyvZtS"
      },
      "source": [
        "## Shapes That Might Be Useful..."
      ]
    },
    {
      "cell_type": "markdown",
      "metadata": {
        "id": "LtwbP5tRbJky"
      },
      "source": [
        "Throughout the duration of this course, you might find it really helpful to check the shapes of each of your different tensors and outputs just to verify that everything is working as intended. Check the block below to see an example!"
      ]
    },
    {
      "cell_type": "code",
      "execution_count": 99,
      "metadata": {
        "colab": {
          "base_uri": "https://localhost:8080/"
        },
        "id": "MBkTktWcD9dz",
        "outputId": "387ae044-d444-4fc3-b953-3252e61b7a3b"
      },
      "outputs": [
        {
          "output_type": "stream",
          "name": "stdout",
          "text": [
            "> Prediction Shape: torch.Size([354, 1])\n",
            "> Weights    Shape: torch.Size([1, 10])\n",
            "> Bias       Shape: torch.Size([1])\n",
            "> Loss       Shape: torch.Size([])\n"
          ]
        }
      ],
      "source": [
        "y_true = torch.Tensor(Y0)\n",
        "y_pred = torch_model(torch.Tensor(X0))\n",
        "loss = torch_model.loss(y_true, y_pred)\n",
        "\n",
        "print(f\"\"\"\n",
        "> Prediction Shape: {y_pred.shape}\n",
        "> Weights    Shape: {list(torch_model.parameters())[0].shape}\n",
        "> Bias       Shape: {list(torch_model.parameters())[1].shape}\n",
        "> Loss       Shape: {loss.shape}\n",
        "\"\"\".strip())"
      ]
    },
    {
      "cell_type": "markdown",
      "metadata": {
        "id": "cu1pLK46fFqX"
      },
      "source": [
        "Next, let's start building up all the different parts of the basic PyTorch tools that we used in order to see what's under the hood."
      ]
    },
    {
      "cell_type": "markdown",
      "metadata": {
        "id": "0ZfozqWdLB2V"
      },
      "source": [
        "## PyTorch Complexity Assumptions"
      ]
    },
    {
      "cell_type": "markdown",
      "metadata": {
        "id": "oVv6iQios7-D"
      },
      "source": [
        "### Tensors\n",
        "- Tensors are responsible for maintaining their own gradients\n",
        "- Tensors hold on to `backward` functions to which they can pass a gradient into. These backwards functions are provided by the layers associated with those tensors. \n",
        "    - If a tensor is a terminal node, it will pass in an upstream gradient of `None`.\n",
        "    - If a tensor is a non-terminal node, it will pass the accumulated upstream gradient. \n",
        "    - `backward` functions as a linked list algorithm and crawls back the chain, computing the gradient for every tensor that it hits (as long as they require a gradient).\n",
        "- Since the tensors hold their own gradients, the optimizer can merely take the tensors' values, take their gradients, and then just optimize them.\n",
        "- However, because tensors are always keeping track of their gradients when `requires_grad` is set to `True`, we also want to add a way to stop tracking gradients.\n",
        "    - For instance, while evaluating the performance of our model, we want to make sure that the model doesn't learn anything from this evaluation phase.\n",
        "    - We can use the `no_grad` subclass to automatically handle the flipping of this `requires_grad` value. \n",
        "        - Every time we enter a `with Tensor.no_grad():` block, the code within `no_grad`'s `__enter__()` method will execute. \n",
        "        - Once we exit the same `with Tensor.no_grad():` block, `no_grad`'s `__exit()__` method will run."
      ]
    },
    {
      "cell_type": "code",
      "execution_count": 100,
      "metadata": {
        "id": "5ZbMLm30y3tD"
      },
      "outputs": [],
      "source": [
        "class Tensor(np.ndarray):\n",
        "\n",
        "    '''\n",
        "    Subclassing numpy arrays is a bit weird:\n",
        "    https://numpy.org/doc/stable/user/basics.subclassing.html\n",
        "\n",
        "    Just assume that the attributes referred to in __new__/__array_finalize__ \n",
        "    will be accessible in a Tensor when a new Tensor object is created.  \n",
        "    '''\n",
        "\n",
        "    requires_grad = True  ## Class variable; accessible by Tensor.requires_grad\n",
        "\n",
        "    def __new__(cls, input_array):\n",
        "        obj = np.asarray(input_array).view(cls)\n",
        "        obj.backward = lambda x: None   ## Backward starts as None, gets assigned later\n",
        "        obj.grad = None                 ## Gradient starts as None, gets computed later\n",
        "        obj.requires_grad = True        ## By default, we'll want to compute gradient for new tensors\n",
        "        obj.to = lambda x: obj          ## We don't handle special device support (i.e. cpu vs gpu/cuda)\n",
        "        return obj\n",
        "\n",
        "    def __array_finalize__(self, obj):\n",
        "        if obj is None: return\n",
        "        self.backward       = getattr(obj, 'backward',      lambda x: None)\n",
        "        self.to             = getattr(obj, 'to',            lambda x: obj)\n",
        "        self.grad           = getattr(obj, 'grad',          None)\n",
        "        self.requires_grad  = getattr(obj, 'requires_grad', None)\n",
        "\n",
        "    class no_grad():\n",
        "\n",
        "        '''\n",
        "        Synergizes with Tensor: By entering the tensor with no_grad scope, \n",
        "        the Tensor.requires_grad singleton will swap to False. \n",
        "        '''\n",
        "        \n",
        "        def __enter__(self):\n",
        "            # When tape scope is entered, stop asking tensors to record gradients\n",
        "            Tensor.requires_grad = False\n",
        "            return self\n",
        "\n",
        "        def __exit__(self, exc_type, exc_val, exc_tb):\n",
        "            # When tape scope is exited, let Diffable start recording to self.operation\n",
        "            Tensor.requires_grad = True"
      ]
    },
    {
      "cell_type": "markdown",
      "metadata": {
        "id": "ovL7L6STvXCU"
      },
      "source": [
        "### Diffable\n",
        "\n",
        "Let's specify a \"Diffable\" object which will represent a module that can be differentiated. This class will make the following assumptions: \n",
        "- Gradients will need to flow through the input pathways in order to compute earlier gradients. \n",
        "    - Therefore, inputs will need an appropriate \"backward\"\n",
        "- Parameters will need to recieve gradients.\n",
        "- More specifically, if a `Diffable` object performs an operation on some input, then we know that the gradient from the output of the Diffable w.r.t. the inputs is the gradient of the `Diffable`'s operations w.r.t. its inputs.\n",
        "  - Thus, a `Diffable`'s `input_gradients()` function should return a tuple with each of the partial derivatives of the operations performed in the forward pass."
      ]
    },
    {
      "cell_type": "code",
      "execution_count": 101,
      "metadata": {
        "id": "9v68mc_U1ymJ"
      },
      "outputs": [],
      "source": [
        "from abc import ABC, abstractmethod  # # For abstract method support\n",
        "\n",
        "class Diffable(ABC):\n",
        "    \"\"\"\n",
        "        We use these to represent differentiable layers which we can compute gradients for.\n",
        "    \"\"\"\n",
        "\n",
        "    def to(self, device):\n",
        "        return self         # Just there to ignore device setting calls\n",
        "    \n",
        "    def __call__(self, *args, **kwargs):\n",
        "        \n",
        "        ## The call method keeps track of method inputs and outputs\n",
        "        self.argnames   = self.forward.__code__.co_varnames[1:]\n",
        "        named_args      = {self.argnames[i] : args[i] for i in range(len(args))}\n",
        "        self.input_dict = {**named_args, **kwargs}\n",
        "        self.inputs     = [self.input_dict[arg] for arg in self.argnames if arg in self.input_dict.keys()]\n",
        "        self.outputs    = self.forward(*args, **kwargs)\n",
        "\n",
        "        ## Make sure outputs are tensors and tie back to this layer\n",
        "        list_outs = isinstance(self.outputs, list) or isinstance(self.outputs, tuple)\n",
        "        if not list_outs:\n",
        "            self.outputs = [self.outputs]\n",
        "        self.outputs = [Tensor(out) for out in self.outputs]\n",
        "        for out in self.outputs: \n",
        "            out.backward = self.backward\n",
        "\n",
        "        # print(self.__class__.__name__.ljust(24), [v.shape for v in self.inputs], '->', [v.shape for v in self.outputs])\n",
        "            \n",
        "        ## And then finally, it returns the output, thereby wrapping the forward\n",
        "        return self.outputs if list_outs else self.outputs[0]\n",
        "\n",
        "    def parameters(self):\n",
        "        \"\"\"Returns a list of parameters\"\"\"\n",
        "        return ()\n",
        "\n",
        "    @abstractmethod\n",
        "    def forward(self, x):\n",
        "        \"\"\"Pass inputs through function. Can store inputs and outputs as instance variables\"\"\"\n",
        "        pass\n",
        "\n",
        "    @abstractmethod\n",
        "    def input_gradients(self):\n",
        "        \"\"\"Returns local gradient of layer output w.r.t. input\"\"\"\n",
        "        pass\n",
        "\n",
        "    def weight_gradients(self):\n",
        "        \"\"\"Returns local gradient of layer output w.r.t. weights\"\"\"\n",
        "        return []\n",
        "    \n",
        "    @abstractmethod\n",
        "    def backward(self, grad=np.array([[1]])):\n",
        "        \"\"\"\n",
        "        Propagate upstream gradient backwards by composing with local gradient\n",
        "        \n",
        "        SCAFFOLD: \n",
        "\n",
        "        Differentiate with respect to layer parameters:\n",
        "            For every param-gradient pair\n",
        "            - If all Tensors or this tensor do not require gradients, then skip\n",
        "            - Otherwise, compose upstream and local gradient\n",
        "        \n",
        "        Differentiate with respect to layer input:\n",
        "            For every input-gradient pair\n",
        "            - If all Tensors or this tensor do not require gradients, then skip\n",
        "            - Otherwise, compose upstream and local gradient\n",
        "\n",
        "        Usefulseful print boilerplate...: \n",
        "            # print(f'Diffing w.r.t. \"{k}\": local = {g.shape} and upstream = {grad.shape}')\n",
        "        \"\"\"\n",
        "        pass"
      ]
    },
    {
      "cell_type": "markdown",
      "metadata": {
        "id": "2n50HNq3ZuCO"
      },
      "source": [
        "### Loss\n",
        "**[TODO]:** Implement the forward pass in `forward()`.\n",
        "- The forward pass should just give the mean squared error between `y_pred` and `y_true`.\n",
        "\n",
        "**[TODO]:** Implement the backward pass in `backward()`.\n",
        "- This should take advantage of the layer inputs as well as the gradients computed with respect to them.\n",
        "- Feel free to only work with the input gradients, since this loss layer does not have any parameters.\n",
        "\n",
        "**[TODO]:** Calculate and return `input_gradients()`:\n",
        "- You want to calculate the gradients which flow to the inputs: `y_pred` and `y_true`\n",
        "- Note that we don't want to \"train\" `y_true`, so you can just return 0 for the grads for `y_true`\n",
        "- Return the partial derivative of mean squared error w.r.t. `y_pred`, and 0.\n",
        "\n",
        "Note that we don't need to implement `weight_gradients()` here because MSELoss doesn't have weights!"
      ]
    },
    {
      "cell_type": "code",
      "execution_count": 102,
      "metadata": {
        "id": "1GG1E4VaC9hs"
      },
      "outputs": [],
      "source": [
        "class MSELoss(Diffable):\n",
        "\n",
        "    \"\"\"\n",
        "        Calculates mean squared error loss and gradient w.r.t. inputs.\n",
        "        Subclasses Diffable.\n",
        "    \"\"\"\n",
        "    def forward(self, y_pred, y_true):\n",
        "        \"\"\"Mean squared error forward pass!\"\"\"\n",
        "        # TODO: Compute and return the MSE given predicted and actual labels\n",
        "        differences = y_pred - y_true\n",
        "        return np.mean(np.square(differences))\n",
        "\n",
        "    def input_gradients(self):\n",
        "        \"\"\"Mean squared error backpropagation!\"\"\"\n",
        "        \"\"\"Returns local gradient of layer output w.r.t. input\n",
        "        \"\"\"\n",
        "        # TODO: Compute and return the gradients\n",
        "        #obtain dL/dy_pred and dL/dy_true, dy_true = 0\n",
        "        local_gradient = 2/len(self.inputs[0]) * (self.inputs[0] - self.inputs[1])\n",
        "        return local_gradient, np.array([0])\n",
        "\n",
        "    # grad is the upstream gradient\n",
        "    def backward(self, grad=np.array([[1]])):\n",
        "      for x, g in zip(self.inputs, self.input_gradients()):\n",
        "        if (Tensor.requires_grad): \n",
        "          upstream = g @ grad\n",
        "          if getattr(x, 'requires_grad', False):\n",
        "            x.grad = upstream\n",
        "          x.backward(upstream)        \n",
        "     "
      ]
    },
    {
      "cell_type": "markdown",
      "metadata": {
        "id": "2CHqCz0nKsGB"
      },
      "source": [
        "And here are some sanity checks you can run to make sure that your code is working as intended. In the first check, the outputs should match. In the second, they should be within the specified range."
      ]
    },
    {
      "cell_type": "code",
      "execution_count": 103,
      "metadata": {
        "colab": {
          "base_uri": "https://localhost:8080/"
        },
        "id": "45Y7ngPUKehB",
        "outputId": "f09ba1aa-fbf1-4f7e-eaf2-8f96eae829dd"
      },
      "outputs": [
        {
          "output_type": "stream",
          "name": "stdout",
          "text": [
            "tensor(3764.0361, grad_fn=<MseLossBackward0>)\n",
            "3764.0360239159663\n"
          ]
        }
      ],
      "source": [
        "class con: \n",
        "    ## Control set using default PyTorch\n",
        "    ytrue = torch.Tensor(Y0)\n",
        "    ypred = torch_model(torch.Tensor(X0))\n",
        "    loss_fn = nn.MSELoss()\n",
        "\n",
        "class exp: \n",
        "    ## Experimental set using your own implementation\n",
        "    ytrue = Tensor(Y0)\n",
        "    ypred = Tensor(con.ypred.detach().numpy())\n",
        "    loss_fn = MSELoss()\n",
        "\n",
        "def ypred_to_loss(ns):\n",
        "    ## Compute loss using the control and experimental namespaces\n",
        "    ns.loss = ns.loss_fn(ns.ypred, ns.ytrue)\n",
        "    return ns.loss\n",
        "\n",
        "## Sanity Check 1: Make sure that the forward pass is the same (i.e. your implementation matches the control)\n",
        "print(ypred_to_loss(con))\n",
        "print(ypred_to_loss(exp))"
      ]
    },
    {
      "cell_type": "code",
      "execution_count": 104,
      "metadata": {
        "colab": {
          "base_uri": "https://localhost:8080/"
        },
        "id": "P9tUAGJkg6I9",
        "outputId": "49a843af-1890-4f3b-e585-24bc3049e1dc"
      },
      "outputs": [
        {
          "output_type": "stream",
          "name": "stdout",
          "text": [
            "Maximum difference 2.96339477401375e-08 should be less than 0.00001\n"
          ]
        }
      ],
      "source": [
        "## Sanity Check 2: Make sure that the backwards pass is the same\n",
        "\n",
        "con.ypred = con.ypred.detach()\n",
        "con.ypred.requires_grad = True\n",
        "# print(\"Before running backwards:\\n\", con.ypred.grad)\n",
        "ypred_to_loss(con)\n",
        "con.loss.backward()\n",
        "# print(\"After running backwards:\\n\", con.ypred.grad)\n",
        "\n",
        "exp.ypred.grad = None\n",
        "# print(\"Before running backwards:\\n\", np.round(exp.ypred.grad, 4))\n",
        "ypred_to_loss(exp)\n",
        "exp.loss.backward()\n",
        "# print(\"After running backwards:\\n\", np.round(exp.ypred.grad, 4))\n",
        "\n",
        "max_diff = np.max(exp.ypred.grad - con.ypred.grad.detach().numpy())\n",
        "print(f\"Maximum difference {max_diff} should be less than 0.00001\")"
      ]
    },
    {
      "cell_type": "markdown",
      "metadata": {
        "id": "inej4Q37gqN8"
      },
      "source": [
        "### Linear Layer\n",
        "Next, a linear layer!\n",
        "\n",
        "**[TODO]:** Implement the `forward()` pass of a linear layer. \n",
        "\n",
        "**[TODO]:** Calculate (manually) the weight gradients.\n",
        "- Manually differentiate the Dense layer with respect to weights and biases.\n",
        "- Return weight gradient, then bias gradient in that order\n",
        "- HINT: How is differentiating with matrix variables similar to and different from normal differentiation?\n",
        "\n",
        "**[TODO]:** Initalize weights and biases in `_initialize_weight()`.\n",
        "- In a linear layer, we have 2 parameters: weights and biases. \n",
        "- Return two NumPy arrays of the correct shapes according according to the function's arguments. \n",
        "- Return weights and biases, in that order.\n",
        "\n",
        "**[TODO]:** Implement the backward function.\n",
        "- Feel free to only work with the weight gradients, since we do not yet need to support multilayered networks.\n"
      ]
    },
    {
      "cell_type": "code",
      "execution_count": 105,
      "metadata": {
        "id": "50FnJezypdpt",
        "colab": {
          "base_uri": "https://localhost:8080/"
        },
        "outputId": "2dc1f7cf-8f7d-42e1-a88b-af729e2b3f67"
      },
      "outputs": [
        {
          "output_type": "stream",
          "name": "stdout",
          "text": [
            "(1, 1)\n",
            "Maximum difference 1.5691667965000988e-08 should be less than 0.00001\n",
            "\n",
            "Losses: Control 30507.7421875 vs Experimental 30507.744013720378\n",
            "\n",
            "Control Params:\n",
            "Parameter containing:\n",
            "tensor([[-0.1833, -0.0053, -0.0726,  0.2523, -0.1924, -0.2271, -0.0657, -0.2228,\n",
            "         -0.2387, -0.2463]], requires_grad=True)\n",
            "Parameter containing:\n",
            "tensor([0.0648], requires_grad=True)\n",
            "\n",
            "Experimental Params:\n",
            "[[-0.18333443 -0.00532878 -0.07256863  0.25234893 -0.19242339 -0.22714584\n",
            "  -0.06568353 -0.22281875 -0.23868553 -0.24626085]]\n",
            "[0.06481283]\n"
          ]
        }
      ],
      "source": [
        "import torch\n",
        "import torch.nn as nn\n",
        "\n",
        "class Linear(Diffable):\n",
        "\n",
        "    \"\"\"\n",
        "        Standard linear/dense layer.\n",
        "        Subclasses Diffable.\n",
        "    \"\"\"\n",
        "\n",
        "    def __init__(self, in_features, out_features, device=None, dtype=None):\n",
        "        self.w, self.b = self.__class__._initialize_weight(in_features, out_features)\n",
        "    \n",
        "    def parameters(self):\n",
        "        return self.w, self.b\n",
        "\n",
        "    def forward(self, inputs):\n",
        "        \"\"\"Forward pass for a dense layer! Refer to lecture slides for how this is computed.\"\"\"\n",
        "        # TODO: implement the forward pass and return the outputs\n",
        "        l = inputs @ self.w.T + self.b\n",
        "        return l\n",
        "\n",
        "    def weight_gradients(self):\n",
        "        \"\"\"Calculating the gradients of the weights and biases!\"\"\"\n",
        "        # TODO: Implement calculation of gradients\n",
        "        wgrads = self.input_dict[\"inputs\"] * np.ones_like(self.w)\n",
        "        bgrads = np.ones_like(self.b)\n",
        "        return (wgrads, bgrads)\n",
        "\n",
        "    def input_gradients(self):\n",
        "        \"\"\"Calculate the gradients of the inputs! (Not necessary for HW1)\"\"\"\n",
        "        return (self.w,)\n",
        "\n",
        "    @staticmethod\n",
        "    def _initialize_weight(input_size, output_size):\n",
        "        \"\"\"\n",
        "        Initializes the values of the weights and biases. You can assume that \n",
        "        bias is a zero-vector and weight is normally-distributed.\n",
        "        \"\"\"\n",
        "        ## TODO: Implement default assumption: zero-init for bias, normal distribution for weights\n",
        "        ## Must return tensors for tracking purposes.\n",
        "        w = Tensor(np.random.normal(loc=0.0, scale=1.0, size=(output_size, input_size)))\n",
        "        b = Tensor(np.zeros((output_size, 1)))\n",
        "        print(b.shape)\n",
        "        return w, b\n",
        "\n",
        "    def backward(self, grad=np.array([[1]])):\n",
        "        ## For every weight/bias and weight/bias gradient\n",
        "            ## Compose the upstream gradient with this weight's/bias's gradient\n",
        "            ## Set the gradient of the tensor to the composed gradient if necessary\n",
        "            ## Backpropagate the composed gradient through the structure\n",
        "        for (_, x), g in zip(enumerate(self.parameters()), self.weight_gradients()):\n",
        "          if (Tensor.requires_grad): \n",
        "            upstream = np.sum(g * grad, axis = 0, keepdims = True)\n",
        "            if getattr(x, 'requires_grad', False):\n",
        "              x.grad = upstream\n",
        "            x.backward(upstream) \n",
        "\n",
        "class con:\n",
        "    ## Control set using regular pytorch\n",
        "    X0 = torch.Tensor(X0)\n",
        "    Y0 = torch.Tensor(Y0)\n",
        "    X0.requires_grad = True\n",
        "    Y0.requires_grad = True\n",
        "    dense = nn.Linear(10, 1)\n",
        "    loss_fn = nn.MSELoss()\n",
        "\n",
        "class exp:\n",
        "    ## Experimental set using your own implementation\n",
        "    X0 = Tensor(X0)\n",
        "    Y0 = Tensor(Y0)\n",
        "    dense = Linear(10, 1)\n",
        "    dense.w, dense.b = [Tensor(p.detach().numpy()) for p in con.dense.parameters()]\n",
        "    loss_fn = MSELoss()\n",
        "\n",
        "def x_to_loss(ns):\n",
        "    ns.ypred = ns.dense(ns.X0)\n",
        "    ns.loss  = ns.loss_fn(ns.ypred, ns.Y0)\n",
        "    return ns.loss\n",
        "\n",
        "x_to_loss(con)\n",
        "x_to_loss(exp)\n",
        "\n",
        "## Sanity Check 1: Make sure that the forward pass is the same\n",
        "#print(con.ypred)\n",
        "#print(exp.ypred)\n",
        "\n",
        "print(f\"Maximum difference {np.max(con.ypred.detach().numpy() - exp.ypred)} should be less than 0.00001\\n\")\n",
        "\n",
        "print(f\"Losses: Control {con.loss} vs Experimental {exp.loss}\")\n",
        "\n",
        "print('\\nControl Params:',      *list(con.dense.parameters()), sep='\\n')\n",
        "print('\\nExperimental Params:', *list(exp.dense.parameters()), sep='\\n')"
      ]
    },
    {
      "cell_type": "code",
      "execution_count": 106,
      "metadata": {
        "id": "-v6oUfSJxidG",
        "colab": {
          "base_uri": "https://localhost:8080/"
        },
        "outputId": "0981e35e-08e0-4051-d39d-38621545d4dd"
      },
      "outputs": [
        {
          "output_type": "stream",
          "name": "stdout",
          "text": [
            "After running backwards on weights:\n",
            "[tensor([[-2.0612, -0.5118, -5.3810, -4.1662, -2.6959, -2.5144,  3.7024, -4.4249,\n",
            "         -5.0424, -4.1924]]), tensor([-312.3180])]\n",
            "\n",
            "****************************************************************************************************\n",
            "\n",
            "After running backwards on weights:\n",
            "[Tensor([[-2.06122185, -0.5118281 , -5.38104007, -4.16618263, -2.69592753,\n",
            "         -2.51440903,  3.70239077, -4.42486337, -5.04241456, -4.19237536]]), Tensor([[-312.31796102]])]\n"
          ]
        }
      ],
      "source": [
        "## Sanity Check 2: Make sure that the backwards pass is the same\n",
        "\n",
        "con.X0 = con.X0.detach()\n",
        "con.Y0 = con.Y0.detach()\n",
        "for p in con.dense.parameters():\n",
        "    if p.grad is None: continue\n",
        "    p.grad.detach_()\n",
        "    p.grad = None\n",
        "\n",
        "x_to_loss(con).backward()\n",
        "print(\"After running backwards on weights:\")  \n",
        "print([p.grad for p in con.dense.parameters()])\n",
        "\n",
        "for p in exp.dense.parameters(): p.grad = None\n",
        "x_to_loss(exp).backward()\n",
        "\n",
        "print(\"\\n\" + \"*\" * 100 + \"\\n\")\n",
        "print(\"After running backwards on weights:\")  \n",
        "print([p.grad for p in exp.dense.parameters()])"
      ]
    },
    {
      "cell_type": "markdown",
      "metadata": {
        "id": "CQGhTAMgFe_i"
      },
      "source": [
        "## Optimizing With The Gradients\n",
        "\n",
        "To use the gradients we calculated previously, we need an optimizer. The optimizer allows us to update our weights and bias. A simple approach could be to simply subtract the gradient from the weights and bias. In doing so, we follow the gradient in its opposite direction, minimizing loss. This is what is called gradient descent. \n",
        "\n",
        "However, simply subtracting the gradients from the weights could result in the weights changing wildly between each sample, making training longer. To prevent this, we use a learning rate. The learning rate is a hyperparameter that specifies how much a single step updates weights. A smaller learning rate means that the gradients have less of an impact on the weights, and vice versa.\n",
        "\n",
        "Of course, this is just one (simple) approach. In a later lab, you'll learn about other optimizers, such as Adam and RMSProp.\n",
        "\n",
        "**[TODO]:** Implement stochastic gradient descent for each parameter using the learning rate"
      ]
    },
    {
      "cell_type": "code",
      "execution_count": 107,
      "metadata": {
        "id": "J5s6o4_WGXhe"
      },
      "outputs": [],
      "source": [
        "class SGD: \n",
        "    \"\"\"\n",
        "        Performs stochastic gradient descent with the specified learning rate.\n",
        "    \"\"\"\n",
        "    def __init__(self, params, lr, *args, **kwargs):\n",
        "        self.params = params\n",
        "        self.lr = lr\n",
        "    \n",
        "    def zero_grad(self):\n",
        "        \"\"\"\n",
        "            Reset the gradients. to what??? go through all the parameters and set gradient to none\n",
        "        \"\"\"\n",
        "        for p in self.params:\n",
        "          p.grad = None\n",
        "            \n",
        "    def step(self):\n",
        "        \"\"\"\n",
        "            Update paramaters by subtracting the gradient multiplied by the learning rate.\n",
        "        \"\"\"\n",
        "        ## TODO: Implement stochastic grad descent for each parameter\n",
        "        for p in self.params:\n",
        "          p -= self.lr * p.grad \n",
        "        \n"
      ]
    },
    {
      "cell_type": "markdown",
      "metadata": {
        "id": "p9m63xegnLnj"
      },
      "source": [
        "Below, you'll use your new implementations to optimize for linear regression manually. FakeTorchModule will also be provided to make some of the mimicking process easier. \n",
        "\n",
        "**[TODO]:** Complete the model and compare this model's performance to the previous `LinearRegression` model -- they should have a similar loss after training."
      ]
    },
    {
      "cell_type": "code",
      "execution_count": 112,
      "metadata": {
        "id": "M6-a0DfvFlnN",
        "colab": {
          "base_uri": "https://localhost:8080/"
        },
        "outputId": "e7da4811-4ad1-4fc9-d44e-c438122e7a8e"
      },
      "outputs": [
        {
          "output_type": "stream",
          "name": "stdout",
          "text": [
            "(1, 1)\n",
            "[Epoch 1/200] {'loss': Tensor(30504.62032247), 'test_loss': 6573.657911650106}\n",
            "[Epoch 2/200] {'loss': Tensor(9970.7444139), 'test_loss': 4805.339365524657}\n",
            "[Epoch 3/200] {'loss': Tensor(6664.57787744), 'test_loss': 4870.014383911763}\n",
            "[Epoch 4/200] {'loss': Tensor(6114.44194721), 'test_loss': 5009.054403014087}\n",
            "[Epoch 5/200] {'loss': Tensor(6005.38310702), 'test_loss': 5073.039608849727}\n",
            "[Epoch 6/200] {'loss': Tensor(5967.08931478), 'test_loss': 5090.535493202507}\n",
            "[Epoch 7/200] {'loss': Tensor(5940.32166961), 'test_loss': 5086.981643153232}\n",
            "[Epoch 8/200] {'loss': Tensor(5915.60187665), 'test_loss': 5074.748365900602}\n",
            "[Epoch 9/200] {'loss': Tensor(5891.41158283), 'test_loss': 5059.1153558128135}\n",
            "[Epoch 10/200] {'loss': Tensor(5867.5057647), 'test_loss': 5042.239091731735}\n",
            "[Epoch 11/200] {'loss': Tensor(5843.84310921), 'test_loss': 5024.985255254127}\n",
            "[Epoch 12/200] {'loss': Tensor(5820.41491264), 'test_loss': 5007.698324301012}\n",
            "[Epoch 13/200] {'loss': Tensor(5797.21771033), 'test_loss': 4990.51421988845}\n",
            "[Epoch 14/200] {'loss': Tensor(5774.24889812), 'test_loss': 4973.485716610117}\n",
            "[Epoch 15/200] {'loss': Tensor(5751.5060317), 'test_loss': 4956.632496934822}\n",
            "[Epoch 16/200] {'loss': Tensor(5728.98671434), 'test_loss': 4939.961089168551}\n",
            "[Epoch 17/200] {'loss': Tensor(5706.6885786), 'test_loss': 4923.472802835666}\n",
            "[Epoch 18/200] {'loss': Tensor(5684.60928325), 'test_loss': 4907.166885879173}\n",
            "[Epoch 19/200] {'loss': Tensor(5662.74651251), 'test_loss': 4891.041780537576}\n",
            "[Epoch 20/200] {'loss': Tensor(5641.09797568), 'test_loss': 4875.095622788082}\n",
            "[Epoch 21/200] {'loss': Tensor(5619.66140688), 'test_loss': 4859.326440868398}\n",
            "[Epoch 22/200] {'loss': Tensor(5598.43456477), 'test_loss': 4843.732234091696}\n",
            "[Epoch 23/200] {'loss': Tensor(5577.41523228), 'test_loss': 4828.311004043626}\n",
            "[Epoch 24/200] {'loss': Tensor(5556.60121635), 'test_loss': 4813.060766838588}\n",
            "[Epoch 25/200] {'loss': Tensor(5535.99034766), 'test_loss': 4797.97955784307}\n",
            "[Epoch 26/200] {'loss': Tensor(5515.58048037), 'test_loss': 4783.065433404076}\n",
            "[Epoch 27/200] {'loss': Tensor(5495.36949187), 'test_loss': 4768.316471387832}\n",
            "[Epoch 28/200] {'loss': Tensor(5475.35528254), 'test_loss': 4753.730771246878}\n",
            "[Epoch 29/200] {'loss': Tensor(5455.53577548), 'test_loss': 4739.30645390118}\n",
            "[Epoch 30/200] {'loss': Tensor(5435.90891624), 'test_loss': 4725.0416615468675}\n",
            "[Epoch 31/200] {'loss': Tensor(5416.47267265), 'test_loss': 4710.934557437772}\n",
            "[Epoch 32/200] {'loss': Tensor(5397.22503449), 'test_loss': 4696.983325657745}\n",
            "[Epoch 33/200] {'loss': Tensor(5378.16401331), 'test_loss': 4683.186170890826}\n",
            "[Epoch 34/200] {'loss': Tensor(5359.28764217), 'test_loss': 4669.541318192146}\n",
            "[Epoch 35/200] {'loss': Tensor(5340.5939754), 'test_loss': 4656.047012760603}\n",
            "[Epoch 36/200] {'loss': Tensor(5322.08108838), 'test_loss': 4642.701519713792}\n",
            "[Epoch 37/200] {'loss': Tensor(5303.74707732), 'test_loss': 4629.503123865294}\n",
            "[Epoch 38/200] {'loss': Tensor(5285.590059), 'test_loss': 4616.450129504393}\n",
            "[Epoch 39/200] {'loss': Tensor(5267.60817058), 'test_loss': 4603.540860178215}\n",
            "[Epoch 40/200] {'loss': Tensor(5249.79956935), 'test_loss': 4590.773658476274}\n",
            "[Epoch 41/200] {'loss': Tensor(5232.16243253), 'test_loss': 4578.146885817402}\n",
            "[Epoch 42/200] {'loss': Tensor(5214.69495705), 'test_loss': 4565.658922239041}\n",
            "[Epoch 43/200] {'loss': Tensor(5197.39535933), 'test_loss': 4553.308166188866}\n",
            "[Epoch 44/200] {'loss': Tensor(5180.26187507), 'test_loss': 4541.093034318724}\n",
            "[Epoch 45/200] {'loss': Tensor(5163.29275903), 'test_loss': 4529.011961280848}\n",
            "[Epoch 46/200] {'loss': Tensor(5146.48628485), 'test_loss': 4517.063399526339}\n",
            "[Epoch 47/200] {'loss': Tensor(5129.84074479), 'test_loss': 4505.2458191058795}\n",
            "[Epoch 48/200] {'loss': Tensor(5113.35444961), 'test_loss': 4493.55770747265}\n",
            "[Epoch 49/200] {'loss': Tensor(5097.02572828), 'test_loss': 4481.997569287443}\n",
            "[Epoch 50/200] {'loss': Tensor(5080.85292784), 'test_loss': 4470.5639262259265}\n",
            "[Epoch 51/200] {'loss': Tensor(5064.83441319), 'test_loss': 4459.255316788045}\n",
            "[Epoch 52/200] {'loss': Tensor(5048.96856688), 'test_loss': 4448.070296109551}\n",
            "[Epoch 53/200] {'loss': Tensor(5033.25378894), 'test_loss': 4437.007435775601}\n",
            "[Epoch 54/200] {'loss': Tensor(5017.68849665), 'test_loss': 4426.0653236364415}\n",
            "[Epoch 55/200] {'loss': Tensor(5002.27112442), 'test_loss': 4415.242563625124}\n",
            "[Epoch 56/200] {'loss': Tensor(4987.00012353), 'test_loss': 4404.537775577249}\n",
            "[Epoch 57/200] {'loss': Tensor(4971.873962), 'test_loss': 4393.949595052713}\n",
            "[Epoch 58/200] {'loss': Tensor(4956.89112438), 'test_loss': 4383.476673159425}\n",
            "[Epoch 59/200] {'loss': Tensor(4942.05011156), 'test_loss': 4373.1176763789845}\n",
            "[Epoch 60/200] {'loss': Tensor(4927.34944064), 'test_loss': 4362.871286394287}\n",
            "[Epoch 61/200] {'loss': Tensor(4912.78764471), 'test_loss': 4352.736199919053}\n",
            "[Epoch 62/200] {'loss': Tensor(4898.36327266), 'test_loss': 4342.711128529247}\n",
            "[Epoch 63/200] {'loss': Tensor(4884.07488908), 'test_loss': 4332.7947984963475}\n",
            "[Epoch 64/200] {'loss': Tensor(4869.92107402), 'test_loss': 4322.985950622501}\n",
            "[Epoch 65/200] {'loss': Tensor(4855.90042285), 'test_loss': 4313.28334007748}\n",
            "[Epoch 66/200] {'loss': Tensor(4842.01154608), 'test_loss': 4303.6857362374585}\n",
            "[Epoch 67/200] {'loss': Tensor(4828.25306923), 'test_loss': 4294.1919225255815}\n",
            "[Epoch 68/200] {'loss': Tensor(4814.62363261), 'test_loss': 4284.800696254295}\n",
            "[Epoch 69/200] {'loss': Tensor(4801.12189121), 'test_loss': 4275.5108684694405}\n",
            "[Epoch 70/200] {'loss': Tensor(4787.74651452), 'test_loss': 4266.321263796064}\n",
            "[Epoch 71/200] {'loss': Tensor(4774.49618635), 'test_loss': 4257.230720285951}\n",
            "[Epoch 72/200] {'loss': Tensor(4761.36960473), 'test_loss': 4248.238089266847}\n",
            "[Epoch 73/200] {'loss': Tensor(4748.3654817), 'test_loss': 4239.342235193358}\n",
            "[Epoch 74/200] {'loss': Tensor(4735.48254317), 'test_loss': 4230.542035499495}\n",
            "[Epoch 75/200] {'loss': Tensor(4722.7195288), 'test_loss': 4221.836380452877}\n",
            "[Epoch 76/200] {'loss': Tensor(4710.07519182), 'test_loss': 4213.224173010531}\n",
            "[Epoch 77/200] {'loss': Tensor(4697.54829887), 'test_loss': 4204.704328676314}\n",
            "[Epoch 78/200] {'loss': Tensor(4685.1376299), 'test_loss': 4196.275775359897}\n",
            "[Epoch 79/200] {'loss': Tensor(4672.84197798), 'test_loss': 4187.937453237345}\n",
            "[Epoch 80/200] {'loss': Tensor(4660.66014921), 'test_loss': 4179.688314613214}\n",
            "[Epoch 81/200] {'loss': Tensor(4648.59096249), 'test_loss': 4171.527323784204}\n",
            "[Epoch 82/200] {'loss': Tensor(4636.63324948), 'test_loss': 4163.453456904316}\n",
            "[Epoch 83/200] {'loss': Tensor(4624.7858544), 'test_loss': 4155.465701851516}\n",
            "[Epoch 84/200] {'loss': Tensor(4613.0476339), 'test_loss': 4147.56305809587}\n",
            "[Epoch 85/200] {'loss': Tensor(4601.41745696), 'test_loss': 4139.74453656915}\n",
            "[Epoch 86/200] {'loss': Tensor(4589.89420469), 'test_loss': 4132.009159535896}\n",
            "[Epoch 87/200] {'loss': Tensor(4578.47677028), 'test_loss': 4124.3559604659}\n",
            "[Epoch 88/200] {'loss': Tensor(4567.1640588), 'test_loss': 4116.78398390812}\n",
            "[Epoch 89/200] {'loss': Tensor(4555.9549871), 'test_loss': 4109.292285365978}\n",
            "[Epoch 90/200] {'loss': Tensor(4544.84848368), 'test_loss': 4101.8799311740695}\n",
            "[Epoch 91/200] {'loss': Tensor(4533.84348857), 'test_loss': 4094.545998376219}\n",
            "[Epoch 92/200] {'loss': Tensor(4522.93895318), 'test_loss': 4087.2895746049103}\n",
            "[Epoch 93/200] {'loss': Tensor(4512.13384022), 'test_loss': 4080.109757962049}\n",
            "[Epoch 94/200] {'loss': Tensor(4501.42712351), 'test_loss': 4073.005656901054}\n",
            "[Epoch 95/200] {'loss': Tensor(4490.81778793), 'test_loss': 4065.9763901102574}\n",
            "[Epoch 96/200] {'loss': Tensor(4480.30482926), 'test_loss': 4059.021086397604}\n",
            "[Epoch 97/200] {'loss': Tensor(4469.88725407), 'test_loss': 4052.138884576641}\n",
            "[Epoch 98/200] {'loss': Tensor(4459.56407959), 'test_loss': 4045.328933353758}\n",
            "[Epoch 99/200] {'loss': Tensor(4449.33433363), 'test_loss': 4038.590391216702}\n",
            "[Epoch 100/200] {'loss': Tensor(4439.19705441), 'test_loss': 4031.9224263243177}\n",
            "[Epoch 101/200] {'loss': Tensor(4429.15129051), 'test_loss': 4025.3242163975256}\n",
            "[Epoch 102/200] {'loss': Tensor(4419.19610071), 'test_loss': 4018.794948611509}\n",
            "[Epoch 103/200] {'loss': Tensor(4409.33055388), 'test_loss': 4012.333819489098}\n",
            "[Epoch 104/200] {'loss': Tensor(4399.55372891), 'test_loss': 4005.9400347953447}\n",
            "[Epoch 105/200] {'loss': Tensor(4389.86471456), 'test_loss': 3999.612809433276}\n",
            "[Epoch 106/200] {'loss': Tensor(4380.26260938), 'test_loss': 3993.351367340799}\n",
            "[Epoch 107/200] {'loss': Tensor(4370.74652157), 'test_loss': 3987.1549413887547}\n",
            "[Epoch 108/200] {'loss': Tensor(4361.31556892), 'test_loss': 3981.022773280114}\n",
            "[Epoch 109/200] {'loss': Tensor(4351.96887868), 'test_loss': 3974.9541134502942}\n",
            "[Epoch 110/200] {'loss': Tensor(4342.70558743), 'test_loss': 3968.948220968581}\n",
            "[Epoch 111/200] {'loss': Tensor(4333.52484105), 'test_loss': 3963.0043634406534}\n",
            "[Epoch 112/200] {'loss': Tensor(4324.42579456), 'test_loss': 3957.1218169121903}\n",
            "[Epoch 113/200] {'loss': Tensor(4315.40761201), 'test_loss': 3951.2998657735575}\n",
            "[Epoch 114/200] {'loss': Tensor(4306.46946646), 'test_loss': 3945.5378026655508}\n",
            "[Epoch 115/200] {'loss': Tensor(4297.61053979), 'test_loss': 3939.834928386191}\n",
            "[Epoch 116/200] {'loss': Tensor(4288.83002267), 'test_loss': 3934.1905517985606}\n",
            "[Epoch 117/200] {'loss': Tensor(4280.12711443), 'test_loss': 3928.6039897396604}\n",
            "[Epoch 118/200] {'loss': Tensor(4271.50102297), 'test_loss': 3923.074566930293}\n",
            "[Epoch 119/200] {'loss': Tensor(4262.95096468), 'test_loss': 3917.6016158859393}\n",
            "[Epoch 120/200] {'loss': Tensor(4254.47616434), 'test_loss': 3912.1844768286364}\n",
            "[Epoch 121/200] {'loss': Tensor(4246.07585503), 'test_loss': 3906.822497599838}\n",
            "[Epoch 122/200] {'loss': Tensor(4237.74927804), 'test_loss': 3901.5150335742364}\n",
            "[Epoch 123/200] {'loss': Tensor(4229.49568277), 'test_loss': 3896.2614475745618}\n",
            "[Epoch 124/200] {'loss': Tensor(4221.31432667), 'test_loss': 3891.0611097873175}\n",
            "[Epoch 125/200] {'loss': Tensor(4213.20447511), 'test_loss': 3885.9133976794624}\n",
            "[Epoch 126/200] {'loss': Tensor(4205.16540134), 'test_loss': 3880.817695916022}\n",
            "[Epoch 127/200] {'loss': Tensor(4197.19638638), 'test_loss': 3875.7733962786133}\n",
            "[Epoch 128/200] {'loss': Tensor(4189.29671891), 'test_loss': 3870.7798975848887}\n",
            "[Epoch 129/200] {'loss': Tensor(4181.46569525), 'test_loss': 3865.836605608868}\n",
            "[Epoch 130/200] {'loss': Tensor(4173.70261923), 'test_loss': 3860.942933002167}\n",
            "[Epoch 131/200] {'loss': Tensor(4166.00680212), 'test_loss': 3856.0982992161034}\n",
            "[Epoch 132/200] {'loss': Tensor(4158.37756253), 'test_loss': 3851.302130424665}\n",
            "[Epoch 133/200] {'loss': Tensor(4150.81422639), 'test_loss': 3846.553859448354}\n",
            "[Epoch 134/200] {'loss': Tensor(4143.31612679), 'test_loss': 3841.852925678859}\n",
            "[Epoch 135/200] {'loss': Tensor(4135.88260396), 'test_loss': 3837.1987750045914}\n",
            "[Epoch 136/200] {'loss': Tensor(4128.51300519), 'test_loss': 3832.5908597370367}\n",
            "[Epoch 137/200] {'loss': Tensor(4121.20668471), 'test_loss': 3828.0286385379313}\n",
            "[Epoch 138/200] {'loss': Tensor(4113.96300366), 'test_loss': 3823.5115763472636}\n",
            "[Epoch 139/200] {'loss': Tensor(4106.78132998), 'test_loss': 3819.039144312056}\n",
            "[Epoch 140/200] {'loss': Tensor(4099.66103839), 'test_loss': 3814.6108197159733}\n",
            "[Epoch 141/200] {'loss': Tensor(4092.60151025), 'test_loss': 3810.2260859096878}\n",
            "[Epoch 142/200] {'loss': Tensor(4085.60213352), 'test_loss': 3805.8844322420427}\n",
            "[Epoch 143/200] {'loss': Tensor(4078.66230269), 'test_loss': 3801.585353991976}\n",
            "[Epoch 144/200] {'loss': Tensor(4071.78141871), 'test_loss': 3797.328352301203}\n",
            "[Epoch 145/200] {'loss': Tensor(4064.95888892), 'test_loss': 3793.1129341076594}\n",
            "[Epoch 146/200] {'loss': Tensor(4058.19412697), 'test_loss': 3788.9386120796803}\n",
            "[Epoch 147/200] {'loss': Tensor(4051.48655275), 'test_loss': 3784.8049045509224}\n",
            "[Epoch 148/200] {'loss': Tensor(4044.83559235), 'test_loss': 3780.711335456}\n",
            "[Epoch 149/200] {'loss': Tensor(4038.24067795), 'test_loss': 3776.6574342668637}\n",
            "[Epoch 150/200] {'loss': Tensor(4031.70124778), 'test_loss': 3772.642735929863}\n",
            "[Epoch 151/200] {'loss': Tensor(4025.21674608), 'test_loss': 3768.666780803537}\n",
            "[Epoch 152/200] {'loss': Tensor(4018.78662296), 'test_loss': 3764.7291145970826}\n",
            "[Epoch 153/200] {'loss': Tensor(4012.41033443), 'test_loss': 3760.829288309527}\n",
            "[Epoch 154/200] {'loss': Tensor(4006.08734225), 'test_loss': 3756.966858169559}\n",
            "[Epoch 155/200] {'loss': Tensor(3999.81711392), 'test_loss': 3753.1413855760647}\n",
            "[Epoch 156/200] {'loss': Tensor(3993.59912261), 'test_loss': 3749.3524370392934}\n",
            "[Epoch 157/200] {'loss': Tensor(3987.43284708), 'test_loss': 3745.5995841227095}\n",
            "[Epoch 158/200] {'loss': Tensor(3981.31777164), 'test_loss': 3741.8824033854803}\n",
            "[Epoch 159/200] {'loss': Tensor(3975.25338608), 'test_loss': 3738.200476325612}\n",
            "[Epoch 160/200] {'loss': Tensor(3969.23918561), 'test_loss': 3734.553389323724}\n",
            "[Epoch 161/200] {'loss': Tensor(3963.2746708), 'test_loss': 3730.9407335874475}\n",
            "[Epoch 162/200] {'loss': Tensor(3957.35934753), 'test_loss': 3727.3621050964503}\n",
            "[Epoch 163/200] {'loss': Tensor(3951.49272692), 'test_loss': 3723.817104548081}\n",
            "[Epoch 164/200] {'loss': Tensor(3945.67432529), 'test_loss': 3720.305337303609}\n",
            "[Epoch 165/200] {'loss': Tensor(3939.9036641), 'test_loss': 3716.826413335085}\n",
            "[Epoch 166/200] {'loss': Tensor(3934.18026986), 'test_loss': 3713.3799471727766}\n",
            "[Epoch 167/200] {'loss': Tensor(3928.50367413), 'test_loss': 3709.9655578532097}\n",
            "[Epoch 168/200] {'loss': Tensor(3922.87341344), 'test_loss': 3706.582868867785}\n",
            "[Epoch 169/200] {'loss': Tensor(3917.28902921), 'test_loss': 3703.231508111964}\n",
            "[Epoch 170/200] {'loss': Tensor(3911.75006775), 'test_loss': 3699.911107835041}\n",
            "[Epoch 171/200] {'loss': Tensor(3906.25608016), 'test_loss': 3696.6213045904583}\n",
            "[Epoch 172/200] {'loss': Tensor(3900.80662231), 'test_loss': 3693.3617391866937}\n",
            "[Epoch 173/200] {'loss': Tensor(3895.40125477), 'test_loss': 3690.13205663869}\n",
            "[Epoch 174/200] {'loss': Tensor(3890.03954277), 'test_loss': 3686.931906119833}\n",
            "[Epoch 175/200] {'loss': Tensor(3884.72105613), 'test_loss': 3683.760940914469}\n",
            "[Epoch 176/200] {'loss': Tensor(3879.44536923), 'test_loss': 3680.618818370945}\n",
            "[Epoch 177/200] {'loss': Tensor(3874.21206097), 'test_loss': 3677.5051998551935}\n",
            "[Epoch 178/200] {'loss': Tensor(3869.02071469), 'test_loss': 3674.4197507048175}\n",
            "[Epoch 179/200] {'loss': Tensor(3863.87091815), 'test_loss': 3671.36214018371}\n",
            "[Epoch 180/200] {'loss': Tensor(3858.76226344), 'test_loss': 3668.3320414371647}\n",
            "[Epoch 181/200] {'loss': Tensor(3853.69434701), 'test_loss': 3665.3291314475036}\n",
            "[Epoch 182/200] {'loss': Tensor(3848.66676955), 'test_loss': 3662.353090990201}\n",
            "[Epoch 183/200] {'loss': Tensor(3843.67913596), 'test_loss': 3659.4036045904872}\n",
            "[Epoch 184/200] {'loss': Tensor(3838.73105534), 'test_loss': 3656.48036048046}\n",
            "[Epoch 185/200] {'loss': Tensor(3833.82214089), 'test_loss': 3653.5830505566596}\n",
            "[Epoch 186/200] {'loss': Tensor(3828.95200993), 'test_loss': 3650.7113703381274}\n",
            "[Epoch 187/200] {'loss': Tensor(3824.12028379), 'test_loss': 3647.8650189249424}\n",
            "[Epoch 188/200] {'loss': Tensor(3819.32658781), 'test_loss': 3645.0436989572045}\n",
            "[Epoch 189/200] {'loss': Tensor(3814.57055129), 'test_loss': 3642.2471165745005}\n",
            "[Epoch 190/200] {'loss': Tensor(3809.85180742), 'test_loss': 3639.4749813758112}\n",
            "[Epoch 191/200] {'loss': Tensor(3805.16999327), 'test_loss': 3636.727006379873}\n",
            "[Epoch 192/200] {'loss': Tensor(3800.52474975), 'test_loss': 3634.002907985982}\n",
            "[Epoch 193/200] {'loss': Tensor(3795.91572153), 'test_loss': 3631.302405935249}\n",
            "[Epoch 194/200] {'loss': Tensor(3791.34255705), 'test_loss': 3628.625223272276}\n",
            "[Epoch 195/200] {'loss': Tensor(3786.80490843), 'test_loss': 3625.971086307269}\n",
            "[Epoch 196/200] {'loss': Tensor(3782.30243146), 'test_loss': 3623.3397245785864}\n",
            "[Epoch 197/200] {'loss': Tensor(3777.83478557), 'test_loss': 3620.7308708156884}\n",
            "[Epoch 198/200] {'loss': Tensor(3773.40163375), 'test_loss': 3618.1442609025207}\n",
            "[Epoch 199/200] {'loss': Tensor(3769.00264256), 'test_loss': 3615.579633841306}\n",
            "[Epoch 200/200] {'loss': Tensor(3764.63748205), 'test_loss': 3613.036731716737}\n"
          ]
        }
      ],
      "source": [
        "import torch\n",
        "import torch.nn as nn\n",
        "\n",
        "class FakeTorchModule:\n",
        "    \"\"\"\n",
        "        Needed so that we can do manual linear regression.\n",
        "    \"\"\"\n",
        "\n",
        "    def __init__(self):\n",
        "        self.device = \"\"\n",
        "\n",
        "    def __call__(self, *args, **kwargs):\n",
        "        return self.forward(*args, **kwargs)\n",
        "\n",
        "    def to(self, device):\n",
        "        return self\n",
        "\n",
        "    def parameters(self):\n",
        "        params = []\n",
        "        for k,v in self.__dict__.items():\n",
        "            params += getattr(v, 'parameters', lambda: [])()\n",
        "        return params\n",
        "\n",
        "    def train(self):\n",
        "        for p in self.parameters():\n",
        "            p.requires_grad = getattr(p, 'required_grad', p.requires_grad)\n",
        "    \n",
        "    def eval(self):\n",
        "        for p in self.parameters():\n",
        "            p.required_grad = p.requires_grad\n",
        "            p.requires_grad = False\n",
        "\n",
        "class ManualRegression(FakeTorchModule):\n",
        "    \"\"\"\n",
        "        Allows us to use our custom Linear layer and SGD optimizer.\n",
        "        Subclasses FakeTorchModule\n",
        "    \"\"\"\n",
        "\n",
        "    def __init__(self, input_dims, output_dims): \n",
        "        super().__init__()\n",
        "        ## TODO: Incorporate your custom components in the initialization pipeline. \n",
        "        self.dense = Linear(input_dims, output_dims, device=None, dtype=None)\n",
        "        self.activation = None  ## To be specified in subclasses \n",
        "        self.loss = None   ## To be specified in subclasses \n",
        "        self.set_learning_rate()\n",
        "\n",
        "    def set_learning_rate(self, learning_rate=0.001):\n",
        "        ## TODO: Use your new SGD component and make changes as appropriate.\n",
        "        self.optimizer = SGD(self.dense.parameters(), lr=learning_rate)\n",
        "\n",
        "    def forward(self, x):\n",
        "        ## TODO: Implement the forward function as appropriate. Make changes as necessary\n",
        "        x = self.dense(x)\n",
        "        return x\n",
        "\n",
        "class TrainTest2(TrainTest):\n",
        "    # no_grad = torch.no_grad\n",
        "    no_grad = Tensor.no_grad\n",
        "\n",
        "class ManualLinearRegression(ManualRegression, TrainTest2):\n",
        "    def __init__(self, input_dims, output_dims):\n",
        "        super().__init__(input_dims, output_dims)\n",
        "        ## TODO: Implement the subclass as appropriate with your own implementations  \n",
        "        self.activation = None  ## To be specified in subclasses \n",
        "        self.loss = MSELoss()   ## To be specified in subclasses \n",
        "\n",
        "## Train the manual linear regression model\n",
        "model = ManualLinearRegression(10, 1)\n",
        "model.set_learning_rate(0.3)\n",
        "model.train_test(\n",
        "    [[Tensor(X0), Tensor(Y0)]], \n",
        "    [[Tensor(X1), Tensor(Y1)]],\n",
        "    epochs=200\n",
        ");\n",
        "## TODO: Compare this model's performance to the first linear regression model -- they should be similar"
      ]
    },
    {
      "cell_type": "markdown",
      "metadata": {
        "id": "AhxMFrlPOX2J"
      },
      "source": [
        "-----"
      ]
    },
    {
      "cell_type": "markdown",
      "metadata": {
        "id": "v6DGrd50k0J5"
      },
      "source": [
        "## Wrapping Up\n",
        "\n",
        "Congratulations, you've finished this assignment! You should now have a better understand of linear regression, loss functions, and optimizers/gradient descent. This assignment provides the foundation for Homework 2, so feel free to come back or read it over again to get a solid understanding.\n",
        "\n",
        "Be sure to submit your finished notebook (follow the guidelines on the handout)."
      ]
    }
  ],
  "metadata": {
    "colab": {
      "provenance": [],
      "include_colab_link": true
    },
    "kernelspec": {
      "display_name": "DL",
      "language": "python",
      "name": "python3"
    },
    "language_info": {
      "codemirror_mode": {
        "name": "ipython",
        "version": 3
      },
      "file_extension": ".py",
      "mimetype": "text/x-python",
      "name": "python",
      "nbconvert_exporter": "python",
      "pygments_lexer": "ipython3",
      "version": "3.10.8 | packaged by conda-forge | (main, Nov 22 2022, 08:25:13) [Clang 14.0.6 ]"
    },
    "vscode": {
      "interpreter": {
        "hash": "759be6693a164ddeab1e231298c2a01a8302a7c7dfd4e560844dbce42a896f34"
      }
    }
  },
  "nbformat": 4,
  "nbformat_minor": 0
}